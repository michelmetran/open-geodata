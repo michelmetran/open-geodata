{
 "cells": [
  {
   "cell_type": "markdown",
   "id": "1385af74",
   "metadata": {},
   "source": [
    "<br>\n",
    "\n",
    "# AMN\n"
   ]
  },
  {
   "cell_type": "markdown",
   "id": "84b412a8",
   "metadata": {},
   "source": [
    "No que tange aos dados espaciais, a AMN mantem o portal [SIGMINE](https://geo.anm.gov.br/portal/apps/webappviewer/index.html?id=6a8f5ccc4b6a4c2bba79759aa952d908)\n"
   ]
  },
  {
   "cell_type": "code",
   "execution_count": null,
   "id": "e4def0b3",
   "metadata": {},
   "outputs": [],
   "source": [
    "import tempfile\n",
    "from pathlib import Path\n",
    "\n",
    "import folium\n",
    "import geopandas as gpd\n",
    "from folium import plugins\n",
    "\n",
    "import open_geodata as geo"
   ]
  },
  {
   "cell_type": "markdown",
   "id": "2b67623a",
   "metadata": {},
   "source": [
    "<br>\n",
    "\n",
    "---\n",
    "\n",
    "## Lista Layers\n"
   ]
  },
  {
   "cell_type": "code",
   "execution_count": 6,
   "id": "a2dafce9",
   "metadata": {},
   "outputs": [
    {
     "data": {
      "text/plain": [
       "{'amn.Arquivo de Metadados': {'url': 'https://app.anm.gov.br/dadosabertos/SIGMINE/metadados-sigmine.xlsx',\n",
       "  'hash': None,\n",
       "  'description': 'Informações sobre os conjuntos de dados abertos do Sistema de Informações Geográficas da Mineração (SIGMINE). ',\n",
       "  'details': 'https://dados.gov.br/dados/conjuntos-dados/sistema-de-informacoes-geograficas-da-mineracao-sigmine'},\n",
       " 'amn.Áreas de bloqueio': {'url': 'https://app.anm.gov.br/dadosabertos/SIGMINE/BLOQUEIO.zip',\n",
       "  'hash': None,\n",
       "  'description': 'Poligonais das áreas bloqueadas para mineração. Formato: Shapefile.',\n",
       "  'details': 'https://dados.gov.br/dados/conjuntos-dados/sistema-de-informacoes-geograficas-da-mineracao-sigmine'},\n",
       " 'amn.Áreas de proteção de fonte': {'url': 'https://app.anm.gov.br/dadosabertos/SIGMINE/PROTECAO_FONTE.zip',\n",
       "  'hash': None,\n",
       "  'description': 'Poligonais das áreas de proteção de fonte associadas aos processos minerários ativos mantidos pela Agência Nacional de Mineração. Formato: Shapefile.',\n",
       "  'details': 'https://dados.gov.br/dados/conjuntos-dados/sistema-de-informacoes-geograficas-da-mineracao-sigmine'},\n",
       " 'amn.Áreas de servidão': {'url': 'https://app.anm.gov.br/dadosabertos/SIGMINE/AREA_SERVIDAO.zip',\n",
       "  'hash': None,\n",
       "  'description': 'Poligonais das áreas de servidão associadas aos processos minerários ativos mantidos pela Agência Nacional de Mineração. Formato: Shapefile. Nota: Dados com baixa qualidade, recomenda-se prudência nas análises.',\n",
       "  'details': 'https://dados.gov.br/dados/conjuntos-dados/sistema-de-informacoes-geograficas-da-mineracao-sigmine'},\n",
       " 'amn.Arrendamentos': {'url': 'https://app.anm.gov.br/dadosabertos/SIGMINE/ARRENDAMENTO.zip',\n",
       "  'hash': None,\n",
       "  'description': 'Poligonais dos processos minerários arrendados mantidos pela Agência Nacional de Mineração. Formato: Shapefile.',\n",
       "  'details': 'https://dados.gov.br/dados/conjuntos-dados/sistema-de-informacoes-geograficas-da-mineracao-sigmine'},\n",
       " 'amn.Processos minerários ativos - Brasil': {'url': 'https://app.anm.gov.br/dadosabertos/SIGMINE/PROCESSOS_MINERARIOS/BRASIL.zip',\n",
       "  'hash': None,\n",
       "  'description': 'Poligonais dos processos minerários ativos (incluindo áreas em disponibilidade) mantidos pela Agência Nacional de Mineração. Extensão geográfica: Brasil. Formato: Shapefile.',\n",
       "  'details': 'https://dados.gov.br/dados/conjuntos-dados/sistema-de-informacoes-geograficas-da-mineracao-sigmine'},\n",
       " 'amn.Processos minerários inativos - Brasil': {'url': 'https://app.anm.gov.br/dadosabertos/SIGMINE/PROCESSOS_MINERARIOS/BRASIL_INATIVOS.zip',\n",
       "  'hash': None,\n",
       "  'description': 'Poligonais dos processos minerários inativos mantidos pela Agência Nacional de Mineração. Extensão geográfica: Brasil. Formato: Shapefile.',\n",
       "  'details': 'https://dados.gov.br/dados/conjuntos-dados/sistema-de-informacoes-geograficas-da-mineracao-sigmine'},\n",
       " 'amn.Processos minerários ativos - ZEE': {'url': 'https://app.anm.gov.br/dadosabertos/SIGMINE/PROCESSOS_MINERARIOS/ZEE.zip',\n",
       "  'hash': None,\n",
       "  'description': 'Poligonais dos processos minerários ativos (incluindo áreas em disponibilidade) mantidos pela Agência Nacional de Mineração. Extensão geográfica: Zona Econômica Exclusiva. Formato: Shapefile.',\n",
       "  'details': 'https://dados.gov.br/dados/conjuntos-dados/sistema-de-informacoes-geograficas-da-mineracao-sigmine'},\n",
       " 'amn.Reservas garimpeiras': {'url': 'https://app.anm.gov.br/dadosabertos/SIGMINE/RESERVAS_GARIMPEIRAS.zip',\n",
       "  'hash': None,\n",
       "  'description': 'Poligonais das reservas garimpeiras estabelecidas pela Agência Nacional de Mineração. Formato: Shapefile.',\n",
       "  'details': 'https://dados.gov.br/dados/conjuntos-dados/sistema-de-informacoes-geograficas-da-mineracao-sigmine'}}"
      ]
     },
     "execution_count": 6,
     "metadata": {},
     "output_type": "execute_result"
    }
   ],
   "source": [
    "db = geo.DB(db='amn')\n",
    "db.json"
   ]
  },
  {
   "cell_type": "code",
   "execution_count": null,
   "id": "629585c0",
   "metadata": {},
   "outputs": [],
   "source": [
    "url = db.json['amn.Áreas de servidão']['url']\n",
    "url"
   ]
  },
  {
   "cell_type": "code",
   "execution_count": null,
   "id": "495ce472",
   "metadata": {},
   "outputs": [],
   "source": [
    "geo.load_dataset(db='amn', name='amn.Áreas de servidão')"
   ]
  }
 ],
 "metadata": {
  "kernelspec": {
   "display_name": ".venv",
   "language": "python",
   "name": "python3"
  },
  "language_info": {
   "codemirror_mode": {
    "name": "ipython",
    "version": 3
   },
   "file_extension": ".py",
   "mimetype": "text/x-python",
   "name": "python",
   "nbconvert_exporter": "python",
   "pygments_lexer": "ipython3",
   "version": "3.11.12"
  }
 },
 "nbformat": 4,
 "nbformat_minor": 5
}
