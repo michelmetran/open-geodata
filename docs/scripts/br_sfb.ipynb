{
 "cells": [
  {
   "cell_type": "markdown",
   "id": "8d131de3",
   "metadata": {},
   "source": [
    "<br>\n",
    "\n",
    "# Serviço Florestal Brasileiro\n",
    "\n",
    "\n",
    "https://consultapublica.car.gov.br/publico/imoveis/index"
   ]
  },
  {
   "cell_type": "code",
   "execution_count": null,
   "id": "647ef1b4",
   "metadata": {},
   "outputs": [],
   "source": [
    "import tempfile\n",
    "from pathlib import Path\n",
    "\n",
    "import geopandas as gpd\n",
    "\n",
    "import open_geodata as geo"
   ]
  },
  {
   "cell_type": "code",
   "execution_count": null,
   "id": "30d12bcd",
   "metadata": {},
   "outputs": [],
   "source": [
    "# Instancia classe IBGE\n",
    "sfb = geo.br.sicar.SICAR(\n",
    "    tesseract_path='C:\\\\Program Files\\\\Tesseract-OCR\\\\tesseract.exe'\n",
    ")"
   ]
  },
  {
   "cell_type": "markdown",
   "id": "413c3c07",
   "metadata": {},
   "source": [
    "<br>\n",
    "\n",
    "---\n",
    "\n",
    "## Propriedades\n"
   ]
  },
  {
   "cell_type": "code",
   "execution_count": null,
   "id": "f9117a75",
   "metadata": {},
   "outputs": [],
   "source": [
    "sfb.release_dates"
   ]
  },
  {
   "cell_type": "code",
   "execution_count": null,
   "id": "87b5e6c1",
   "metadata": {},
   "outputs": [],
   "source": [
    "sfb.list_layers"
   ]
  },
  {
   "cell_type": "code",
   "execution_count": null,
   "id": "d4841116",
   "metadata": {},
   "outputs": [],
   "source": [
    "sfb.list_states"
   ]
  },
  {
   "cell_type": "markdown",
   "id": "54b3da99",
   "metadata": {},
   "source": [
    "<br>\n",
    "\n",
    "---\n",
    "\n",
    "## _Download_\n"
   ]
  },
  {
   "cell_type": "code",
   "execution_count": null,
   "id": "5daf99c9",
   "metadata": {},
   "outputs": [],
   "source": [
    "# Salva\n",
    "with tempfile.TemporaryDirectory() as temp_dir:\n",
    "    # Cria o caminho temporário em formato Path\n",
    "    temp_path = Path(temp_dir)\n",
    "\n",
    "\n",
    "    # Donwload\n",
    "    sfb.download_data(\n",
    "        sigla_estado=geo.br.sicar.State.AC,\n",
    "        layer=geo.br.sicar.Polygon.AREA_PROPERTY,\n",
    "        output_path=temp_path,\n",
    "    )\n",
    "\n",
    "    # Lista arquivos baixados\n",
    "    list_files = list(temp_path.glob('*'))\n",
    "    print(list_files)\n",
    "\n",
    "    #\n",
    "    # Lê o shapefile diretamente do zip\n",
    "    gdf = gpd.read_file(list_files[0])"
   ]
  },
  {
   "cell_type": "markdown",
   "id": "acfeab77",
   "metadata": {},
   "source": [
    "<brt>\n"
   ]
  },
  {
   "cell_type": "code",
   "execution_count": null,
   "id": "6f1d2144",
   "metadata": {},
   "outputs": [],
   "source": [
    "gdf.explore()"
   ]
  },
  {
   "cell_type": "code",
   "execution_count": null,
   "id": "57ba736c",
   "metadata": {},
   "outputs": [],
   "source": []
  }
 ],
 "metadata": {
  "kernelspec": {
   "display_name": ".venv",
   "language": "python",
   "name": "python3"
  },
  "language_info": {
   "codemirror_mode": {
    "name": "ipython",
    "version": 3
   },
   "file_extension": ".py",
   "mimetype": "text/x-python",
   "name": "python",
   "nbconvert_exporter": "python",
   "pygments_lexer": "ipython3",
   "version": "3.11.12"
  }
 },
 "nbformat": 4,
 "nbformat_minor": 5
}
