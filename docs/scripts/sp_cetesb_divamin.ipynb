{
 "cells": [
  {
   "cell_type": "markdown",
   "id": "48445b0a",
   "metadata": {},
   "source": [
    "<br>\n",
    "\n",
    "# CETESB\n",
    "\n",
    "_Script_ que cria uma tabela que apresenta informações das Agências Ambientais da CETESB que atuam nos 645 município deo Estado de São Paulo."
   ]
  },
  {
   "cell_type": "code",
   "execution_count": null,
   "id": "742fc4a8",
   "metadata": {},
   "outputs": [],
   "source": [
    "import tempfile\n",
    "from pathlib import Path\n",
    "\n",
    "import open_geodata as geo"
   ]
  },
  {
   "cell_type": "code",
   "execution_count": null,
   "id": "65bd1460",
   "metadata": {},
   "outputs": [],
   "source": [
    "cetesb = geo.sp.cetesb.div_admin.CETESB()\n",
    "cetesb"
   ]
  },
  {
   "cell_type": "markdown",
   "id": "13e914c0",
   "metadata": {},
   "source": [
    "<br>\n",
    "\n",
    "----\n",
    "\n",
    "## Obtem Dados de um Municípios"
   ]
  },
  {
   "cell_type": "code",
   "execution_count": null,
   "id": "954f644c",
   "metadata": {},
   "outputs": [],
   "source": [
    "cetesb.get_agencia_ambiental(municipio='Piracicaba')"
   ]
  },
  {
   "cell_type": "markdown",
   "id": "24ea7597",
   "metadata": {},
   "source": [
    "<br>\n",
    "\n",
    "----\n",
    "\n",
    "## Obtem Todos"
   ]
  },
  {
   "cell_type": "code",
   "execution_count": null,
   "id": "9d083268",
   "metadata": {},
   "outputs": [],
   "source": [
    "cetesb.get_all_agencias_adjusted()"
   ]
  },
  {
   "cell_type": "markdown",
   "id": "9bb227ce",
   "metadata": {},
   "source": [
    "<br>\n",
    "\n",
    "-----\n",
    "\n",
    "## Agências Ambientais"
   ]
  },
  {
   "cell_type": "code",
   "execution_count": null,
   "id": "7c0d3816",
   "metadata": {},
   "outputs": [],
   "source": [
    "cetesb.get_only_agencias()"
   ]
  },
  {
   "cell_type": "markdown",
   "id": "3e73b459",
   "metadata": {},
   "source": [
    "<br>\n",
    "\n",
    "----\n",
    "\n",
    "## Geodataframe"
   ]
  },
  {
   "cell_type": "code",
   "execution_count": null,
   "id": "20f08335",
   "metadata": {},
   "outputs": [],
   "source": [
    "gdf = cetesb.get_geodataframe()\n",
    "gdf.info()\n",
    "gdf.head()"
   ]
  },
  {
   "cell_type": "code",
   "execution_count": null,
   "id": "eb0ed6e4",
   "metadata": {},
   "outputs": [],
   "source": [
    "gdf.explore(column='agencia')"
   ]
  },
  {
   "cell_type": "code",
   "execution_count": null,
   "id": "8f647382",
   "metadata": {},
   "outputs": [],
   "source": []
  }
 ],
 "metadata": {
  "kernelspec": {
   "display_name": ".venv",
   "language": "python",
   "name": "python3"
  },
  "language_info": {
   "codemirror_mode": {
    "name": "ipython",
    "version": 3
   },
   "file_extension": ".py",
   "mimetype": "text/x-python",
   "name": "python",
   "nbconvert_exporter": "python",
   "pygments_lexer": "ipython3",
   "version": "3.11.12"
  }
 },
 "nbformat": 4,
 "nbformat_minor": 5
}
