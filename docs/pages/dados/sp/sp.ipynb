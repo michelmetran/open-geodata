{
 "cells": [
  {
   "cell_type": "markdown",
   "id": "7845a200",
   "metadata": {},
   "source": [
    "<br>\n",
    "\n",
    "\n",
    "# SP\n",
    "[![Repo](https://img.shields.io/badge/GitHub-repo-blue?logo=github&logoColor=f5f5f5)](https://github.com/open-geodata/sp)\n"
   ]
  },
  {
   "cell_type": "code",
   "execution_count": null,
   "id": "676e1ced",
   "metadata": {},
   "outputs": [],
   "source": [
    "import open_geodata as geo"
   ]
  },
  {
   "cell_type": "code",
   "execution_count": null,
   "id": "e9062878",
   "metadata": {},
   "outputs": [],
   "source": [
    "db = geo.data.DB(db='sp')\n",
    "db.list_data"
   ]
  },
  {
   "cell_type": "code",
   "execution_count": null,
   "id": "ba5b8360",
   "metadata": {},
   "outputs": [],
   "source": [
    "# Problemas com SSL\n",
    "df = geo.load_dataset(db='sp', name='tab.municipio_nome')\n",
    "df"
   ]
  }
 ],
 "metadata": {
  "kernelspec": {
   "display_name": ".venv",
   "language": "python",
   "name": "python3"
  },
  "language_info": {
   "codemirror_mode": {
    "name": "ipython",
    "version": 3
   },
   "file_extension": ".py",
   "mimetype": "text/x-python",
   "name": "python",
   "nbconvert_exporter": "python",
   "pygments_lexer": "ipython3",
   "version": "3.11.12"
  }
 },
 "nbformat": 4,
 "nbformat_minor": 5
}
