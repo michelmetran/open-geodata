{
 "cells": [
  {
   "cell_type": "markdown",
   "id": "7845a200",
   "metadata": {},
   "source": [
    "<br>\n",
    "\n",
    "\n",
    "# CATI\n",
    "\n",
    "\n",
    "\n",
    "- [CATI disponibiliza mapeamento de áreas urbanas para gestores públicos](https://www.cati.sp.gov.br/portal/imprensa/noticia/cati-disponibiliza-mapeamento-de-areas-urbanas-para-gestores-publicos)\n",
    "\n",
    "\n",
    "Mapa com Delimitação de áreas urbanizadas do Estado de São Paulo.\n",
    "\n",
    "> O trabalho desenvolvido pela equipe do Ciagro foi realizado sobre as ortofotos do projeto “Mapeia São Paulo”, disponibilizado pela Empresa Paulista de Planejamento Metropolitano-S/A (Emplasa), tendo como base os limites municipais oficiais do Instituto Geográfico e Cartográfico do Estado de São Paulo (IGC). “Foram mapeados 842.750,1 hectares, que somados aos 20.331.149,2 hectares, quantificados pelo Levantamento Censitário de Unidades de Produção Agropecuária (Lupa/CATI), representam 85,2% do território paulista”, informa Mário Ivo, acrescentando: “esperamos que esse material subsidie diferentes trabalhos aos munícipes do Estado, embase Planos Diretores e Leis Orgânicas, auxiliando estudos sobre as consequências da pressão urbana sobre o meio rural e seus recursos ambientais. Esperamos também que ele propicie a geração de políticas de incentivo à manutenção do produtor no meio rural, como um dos principais atores da conservação ambiental”."
   ]
  },
  {
   "cell_type": "code",
   "execution_count": null,
   "id": "676e1ced",
   "metadata": {},
   "outputs": [],
   "source": [
    "import io\n",
    "import tempfile\n",
    "from pathlib import Path\n",
    "from zipfile import ZipFile\n",
    "\n",
    "import geopandas as gpd\n",
    "import rarfile\n",
    "import requests\n",
    "\n",
    "import open_geodata as geo"
   ]
  },
  {
   "cell_type": "code",
   "execution_count": null,
   "id": "e9062878",
   "metadata": {},
   "outputs": [],
   "source": [
    "db = geo.data.DB(db='sp_cati')\n",
    "db.list_data"
   ]
  },
  {
   "cell_type": "code",
   "execution_count": null,
   "id": "ba5b8360",
   "metadata": {},
   "outputs": [],
   "source": [
    "# Problemas com SSL\n",
    "# gdf = geo.load_dataset(db='sp_cati', name='geo.urbanizado_2016')\n",
    "# gdf"
   ]
  },
  {
   "cell_type": "code",
   "execution_count": null,
   "id": "fc8db260",
   "metadata": {},
   "outputs": [],
   "source": [
    "url = db.json['geo.urbanizado_2016']['url']\n",
    "url"
   ]
  },
  {
   "cell_type": "code",
   "execution_count": null,
   "id": "b39c1c48",
   "metadata": {},
   "outputs": [],
   "source": [
    "# COm uma pasta temporária\n",
    "with tempfile.TemporaryDirectory() as temp_path:\n",
    "    # Path\n",
    "    temp_path = Path(temp_path)\n",
    "\n",
    "    # Faz o download\n",
    "    with requests.get(url, verify=False) as r:\n",
    "\n",
    "        # Dentro do zip\n",
    "        with ZipFile(io.BytesIO(r.content)) as zip_ref:\n",
    "            for info in zip_ref.infolist():\n",
    "                print(info.filename)\n",
    "\n",
    "                # Lê o .rar\n",
    "                if info.filename == 'Resultado_Final.rar':\n",
    "                    rar_bytes = io.BytesIO(zip_ref.read(info.filename))\n",
    "                    with rarfile.RarFile(file=rar_bytes) as rar_obj:\n",
    "                        rar_obj.extractall(temp_path)\n",
    "\n",
    "                    # Lê o geodataframe\n",
    "                    gdf = gpd.read_file(\n",
    "                        filename=list(temp_path.rglob('*.shp'))[0]\n",
    "                    )\n",
    "\n",
    "# Resultado\n",
    "gdf.head()"
   ]
  },
  {
   "cell_type": "code",
   "execution_count": null,
   "id": "9eee50a4",
   "metadata": {},
   "outputs": [],
   "source": [
    "m = gdf.explore(column='EDR', legend=False)\n",
    "m"
   ]
  },
  {
   "cell_type": "code",
   "execution_count": null,
   "id": "ffbcf177",
   "metadata": {},
   "outputs": [],
   "source": []
  }
 ],
 "metadata": {
  "kernelspec": {
   "display_name": ".venv",
   "language": "python",
   "name": "python3"
  },
  "language_info": {
   "codemirror_mode": {
    "name": "ipython",
    "version": 3
   },
   "file_extension": ".py",
   "mimetype": "text/x-python",
   "name": "python",
   "nbconvert_exporter": "python",
   "pygments_lexer": "ipython3",
   "version": "3.11.12"
  }
 },
 "nbformat": 4,
 "nbformat_minor": 5
}
