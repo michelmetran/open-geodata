{
 "cells": [
  {
   "cell_type": "markdown",
   "id": "48445b0a",
   "metadata": {},
   "source": [
    "<br>\n",
    "\n",
    "# CETESB\n",
    "\n",
    "_Script_ que cria uma tabela que apresenta informações das Agências Ambientais da CETESB que atuam nos 645 município deo Estado de São Paulo."
   ]
  },
  {
   "cell_type": "code",
   "execution_count": 1,
   "id": "742fc4a8",
   "metadata": {},
   "outputs": [],
   "source": [
    "import tempfile\n",
    "from pathlib import Path\n",
    "\n",
    "import open_geodata as geo"
   ]
  },
  {
   "cell_type": "code",
   "execution_count": 2,
   "id": "65bd1460",
   "metadata": {},
   "outputs": [
    {
     "data": {
      "text/plain": [
       "<open_geodata.providers.sp.cetesb.div_admin.CETESB at 0x280d6c3b650>"
      ]
     },
     "execution_count": 2,
     "metadata": {},
     "output_type": "execute_result"
    }
   ],
   "source": [
    "cetesb = geo.sp.cetesb.div_admin.CETESB()\n",
    "cetesb"
   ]
  },
  {
   "cell_type": "markdown",
   "id": "13e914c0",
   "metadata": {},
   "source": [
    "<br>\n",
    "\n",
    "----\n",
    "\n",
    "## Obtem Dados de um Municípios"
   ]
  },
  {
   "cell_type": "code",
   "execution_count": 3,
   "id": "954f644c",
   "metadata": {},
   "outputs": [
    {
     "name": "stdout",
     "output_type": "stream",
     "text": [
      "Piracicaba > Piracicaba\n"
     ]
    },
    {
     "data": {
      "text/plain": [
       "'Agência Ambiental de Piracicaba'"
      ]
     },
     "execution_count": 3,
     "metadata": {},
     "output_type": "execute_result"
    }
   ],
   "source": [
    "ag = cetesb.get_agencia_ambiental(municipio='Piracicaba')\n",
    "ag['agencia']"
   ]
  },
  {
   "cell_type": "markdown",
   "id": "24ea7597",
   "metadata": {},
   "source": [
    "<br>\n",
    "\n",
    "----\n",
    "\n",
    "## Obtem Todos"
   ]
  },
  {
   "cell_type": "code",
   "execution_count": 4,
   "id": "80f1351e",
   "metadata": {},
   "outputs": [
    {
     "data": {
      "text/html": [
       "<div>\n",
       "<style scoped>\n",
       "    .dataframe tbody tr th:only-of-type {\n",
       "        vertical-align: middle;\n",
       "    }\n",
       "\n",
       "    .dataframe tbody tr th {\n",
       "        vertical-align: top;\n",
       "    }\n",
       "\n",
       "    .dataframe thead th {\n",
       "        text-align: right;\n",
       "    }\n",
       "</style>\n",
       "<table border=\"1\" class=\"dataframe\">\n",
       "  <thead>\n",
       "    <tr style=\"text-align: right;\">\n",
       "      <th></th>\n",
       "      <th>id_municipio</th>\n",
       "      <th>municipio_nome</th>\n",
       "      <th>id_cetesb</th>\n",
       "    </tr>\n",
       "  </thead>\n",
       "  <tbody>\n",
       "    <tr>\n",
       "      <th>0</th>\n",
       "      <td>3500105</td>\n",
       "      <td>Adamantina</td>\n",
       "      <td>150</td>\n",
       "    </tr>\n",
       "    <tr>\n",
       "      <th>1</th>\n",
       "      <td>3500204</td>\n",
       "      <td>Adolfo</td>\n",
       "      <td>151</td>\n",
       "    </tr>\n",
       "    <tr>\n",
       "      <th>2</th>\n",
       "      <td>3500303</td>\n",
       "      <td>Aguaí</td>\n",
       "      <td>152</td>\n",
       "    </tr>\n",
       "    <tr>\n",
       "      <th>3</th>\n",
       "      <td>3500402</td>\n",
       "      <td>Águas da Prata</td>\n",
       "      <td>154</td>\n",
       "    </tr>\n",
       "    <tr>\n",
       "      <th>4</th>\n",
       "      <td>3500501</td>\n",
       "      <td>Águas de Lindóia</td>\n",
       "      <td>153</td>\n",
       "    </tr>\n",
       "    <tr>\n",
       "      <th>...</th>\n",
       "      <td>...</td>\n",
       "      <td>...</td>\n",
       "      <td>...</td>\n",
       "    </tr>\n",
       "    <tr>\n",
       "      <th>640</th>\n",
       "      <td>3556909</td>\n",
       "      <td>Vista Alegre do Alto</td>\n",
       "      <td>716</td>\n",
       "    </tr>\n",
       "    <tr>\n",
       "      <th>641</th>\n",
       "      <td>3556958</td>\n",
       "      <td>Vitória Brasil</td>\n",
       "      <td>783</td>\n",
       "    </tr>\n",
       "    <tr>\n",
       "      <th>642</th>\n",
       "      <td>3557006</td>\n",
       "      <td>Votorantim</td>\n",
       "      <td>717</td>\n",
       "    </tr>\n",
       "    <tr>\n",
       "      <th>643</th>\n",
       "      <td>3557105</td>\n",
       "      <td>Votuporanga</td>\n",
       "      <td>718</td>\n",
       "    </tr>\n",
       "    <tr>\n",
       "      <th>644</th>\n",
       "      <td>3557154</td>\n",
       "      <td>Zacarias</td>\n",
       "      <td>774</td>\n",
       "    </tr>\n",
       "  </tbody>\n",
       "</table>\n",
       "<p>645 rows × 3 columns</p>\n",
       "</div>"
      ],
      "text/plain": [
       "     id_municipio        municipio_nome  id_cetesb\n",
       "0         3500105            Adamantina        150\n",
       "1         3500204                Adolfo        151\n",
       "2         3500303                 Aguaí        152\n",
       "3         3500402        Águas da Prata        154\n",
       "4         3500501      Águas de Lindóia        153\n",
       "..            ...                   ...        ...\n",
       "640       3556909  Vista Alegre do Alto        716\n",
       "641       3556958        Vitória Brasil        783\n",
       "642       3557006            Votorantim        717\n",
       "643       3557105           Votuporanga        718\n",
       "644       3557154              Zacarias        774\n",
       "\n",
       "[645 rows x 3 columns]"
      ]
     },
     "execution_count": 4,
     "metadata": {},
     "output_type": "execute_result"
    }
   ],
   "source": [
    "geo.data.load_dataset(db='sp', name='tab.municipio_idcetesb')"
   ]
  },
  {
   "cell_type": "code",
   "execution_count": 5,
   "id": "9d083268",
   "metadata": {},
   "outputs": [
    {
     "name": "stdout",
     "output_type": "stream",
     "text": [
      "D:\\Codes\\GitHub\\my_projects\\open-geodata\\open_geodata\\data\n"
     ]
    },
    {
     "ename": "KeyError",
     "evalue": "'municipio_cetesb'",
     "output_type": "error",
     "traceback": [
      "\u001b[31m---------------------------------------------------------------------------\u001b[39m",
      "\u001b[31mKeyError\u001b[39m                                  Traceback (most recent call last)",
      "\u001b[36mFile \u001b[39m\u001b[32md:\\Codes\\GitHub\\my_projects\\open-geodata\\.venv\\Lib\\site-packages\\pandas\\core\\indexes\\base.py:3812\u001b[39m, in \u001b[36mIndex.get_loc\u001b[39m\u001b[34m(self, key)\u001b[39m\n\u001b[32m   3811\u001b[39m \u001b[38;5;28;01mtry\u001b[39;00m:\n\u001b[32m-> \u001b[39m\u001b[32m3812\u001b[39m     \u001b[38;5;28;01mreturn\u001b[39;00m \u001b[38;5;28;43mself\u001b[39;49m\u001b[43m.\u001b[49m\u001b[43m_engine\u001b[49m\u001b[43m.\u001b[49m\u001b[43mget_loc\u001b[49m\u001b[43m(\u001b[49m\u001b[43mcasted_key\u001b[49m\u001b[43m)\u001b[49m\n\u001b[32m   3813\u001b[39m \u001b[38;5;28;01mexcept\u001b[39;00m \u001b[38;5;167;01mKeyError\u001b[39;00m \u001b[38;5;28;01mas\u001b[39;00m err:\n",
      "\u001b[36mFile \u001b[39m\u001b[32mpandas/_libs/index.pyx:167\u001b[39m, in \u001b[36mpandas._libs.index.IndexEngine.get_loc\u001b[39m\u001b[34m()\u001b[39m\n",
      "\u001b[36mFile \u001b[39m\u001b[32mpandas/_libs/index.pyx:196\u001b[39m, in \u001b[36mpandas._libs.index.IndexEngine.get_loc\u001b[39m\u001b[34m()\u001b[39m\n",
      "\u001b[36mFile \u001b[39m\u001b[32mpandas/_libs/hashtable_class_helper.pxi:7088\u001b[39m, in \u001b[36mpandas._libs.hashtable.PyObjectHashTable.get_item\u001b[39m\u001b[34m()\u001b[39m\n",
      "\u001b[36mFile \u001b[39m\u001b[32mpandas/_libs/hashtable_class_helper.pxi:7096\u001b[39m, in \u001b[36mpandas._libs.hashtable.PyObjectHashTable.get_item\u001b[39m\u001b[34m()\u001b[39m\n",
      "\u001b[31mKeyError\u001b[39m: 'municipio_cetesb'",
      "\nThe above exception was the direct cause of the following exception:\n",
      "\u001b[31mKeyError\u001b[39m                                  Traceback (most recent call last)",
      "\u001b[36mCell\u001b[39m\u001b[36m \u001b[39m\u001b[32mIn[5]\u001b[39m\u001b[32m, line 1\u001b[39m\n\u001b[32m----> \u001b[39m\u001b[32m1\u001b[39m \u001b[43mcetesb\u001b[49m\u001b[43m.\u001b[49m\u001b[43mget_all_agencias_adjusted\u001b[49m\u001b[43m(\u001b[49m\u001b[43m)\u001b[49m\n",
      "\u001b[36mFile \u001b[39m\u001b[32mD:\\Codes\\GitHub\\my_projects\\open-geodata\\open_geodata\\providers\\sp\\cetesb\\div_admin.py:122\u001b[39m, in \u001b[36mCETESB.get_all_agencias_adjusted\u001b[39m\u001b[34m(self)\u001b[39m\n\u001b[32m    119\u001b[39m df_mun = geo.data.load_dataset(db=\u001b[33m'\u001b[39m\u001b[33msp\u001b[39m\u001b[33m'\u001b[39m, name=\u001b[33m'\u001b[39m\u001b[33mtab.municipio_nome\u001b[39m\u001b[33m'\u001b[39m)\n\u001b[32m    121\u001b[39m \u001b[38;5;66;03m# Obtem Tabela da CETESB\u001b[39;00m\n\u001b[32m--> \u001b[39m\u001b[32m122\u001b[39m df_cetesb = \u001b[38;5;28;43mself\u001b[39;49m\u001b[43m.\u001b[49m\u001b[43mget_all_agencias\u001b[49m\u001b[43m(\u001b[49m\u001b[43m)\u001b[49m\n\u001b[32m    124\u001b[39m \u001b[38;5;66;03m# Merge\u001b[39;00m\n\u001b[32m    125\u001b[39m df = pd.merge(\n\u001b[32m    126\u001b[39m     df_mun,\n\u001b[32m    127\u001b[39m     df_cetesb,\n\u001b[32m   (...)\u001b[39m\u001b[32m    130\u001b[39m     right_on=\u001b[33m'\u001b[39m\u001b[33mid_municipio\u001b[39m\u001b[33m'\u001b[39m,\n\u001b[32m    131\u001b[39m )\n",
      "\u001b[36mFile \u001b[39m\u001b[32mD:\\Codes\\GitHub\\my_projects\\open-geodata\\open_geodata\\providers\\sp\\cetesb\\div_admin.py:110\u001b[39m, in \u001b[36mCETESB.get_all_agencias\u001b[39m\u001b[34m(self)\u001b[39m\n\u001b[32m    105\u001b[39m dict_df = {\n\u001b[32m    106\u001b[39m     \u001b[33m'\u001b[39m\u001b[33mid_municipio\u001b[39m\u001b[33m'\u001b[39m: row[\u001b[33m'\u001b[39m\u001b[33mid_municipio\u001b[39m\u001b[33m'\u001b[39m],\n\u001b[32m    107\u001b[39m }\n\u001b[32m    109\u001b[39m \u001b[38;5;66;03m# Get Addresses\u001b[39;00m\n\u001b[32m--> \u001b[39m\u001b[32m110\u001b[39m list_address = \u001b[38;5;28mself\u001b[39m.get_agencia_ambiental(\u001b[43mrow\u001b[49m\u001b[43m[\u001b[49m\u001b[33;43m'\u001b[39;49m\u001b[33;43mmunicipio_cetesb\u001b[39;49m\u001b[33;43m'\u001b[39;49m\u001b[43m]\u001b[49m)\n\u001b[32m    111\u001b[39m list_address = {**dict_df, **list_address}\n\u001b[32m    112\u001b[39m list_addresses.append(list_address)\n",
      "\u001b[36mFile \u001b[39m\u001b[32md:\\Codes\\GitHub\\my_projects\\open-geodata\\.venv\\Lib\\site-packages\\pandas\\core\\series.py:1130\u001b[39m, in \u001b[36mSeries.__getitem__\u001b[39m\u001b[34m(self, key)\u001b[39m\n\u001b[32m   1127\u001b[39m     \u001b[38;5;28;01mreturn\u001b[39;00m \u001b[38;5;28mself\u001b[39m._values[key]\n\u001b[32m   1129\u001b[39m \u001b[38;5;28;01melif\u001b[39;00m key_is_scalar:\n\u001b[32m-> \u001b[39m\u001b[32m1130\u001b[39m     \u001b[38;5;28;01mreturn\u001b[39;00m \u001b[38;5;28;43mself\u001b[39;49m\u001b[43m.\u001b[49m\u001b[43m_get_value\u001b[49m\u001b[43m(\u001b[49m\u001b[43mkey\u001b[49m\u001b[43m)\u001b[49m\n\u001b[32m   1132\u001b[39m \u001b[38;5;66;03m# Convert generator to list before going through hashable part\u001b[39;00m\n\u001b[32m   1133\u001b[39m \u001b[38;5;66;03m# (We will iterate through the generator there to check for slices)\u001b[39;00m\n\u001b[32m   1134\u001b[39m \u001b[38;5;28;01mif\u001b[39;00m is_iterator(key):\n",
      "\u001b[36mFile \u001b[39m\u001b[32md:\\Codes\\GitHub\\my_projects\\open-geodata\\.venv\\Lib\\site-packages\\pandas\\core\\series.py:1246\u001b[39m, in \u001b[36mSeries._get_value\u001b[39m\u001b[34m(self, label, takeable)\u001b[39m\n\u001b[32m   1243\u001b[39m     \u001b[38;5;28;01mreturn\u001b[39;00m \u001b[38;5;28mself\u001b[39m._values[label]\n\u001b[32m   1245\u001b[39m \u001b[38;5;66;03m# Similar to Index.get_value, but we do not fall back to positional\u001b[39;00m\n\u001b[32m-> \u001b[39m\u001b[32m1246\u001b[39m loc = \u001b[38;5;28;43mself\u001b[39;49m\u001b[43m.\u001b[49m\u001b[43mindex\u001b[49m\u001b[43m.\u001b[49m\u001b[43mget_loc\u001b[49m\u001b[43m(\u001b[49m\u001b[43mlabel\u001b[49m\u001b[43m)\u001b[49m\n\u001b[32m   1248\u001b[39m \u001b[38;5;28;01mif\u001b[39;00m is_integer(loc):\n\u001b[32m   1249\u001b[39m     \u001b[38;5;28;01mreturn\u001b[39;00m \u001b[38;5;28mself\u001b[39m._values[loc]\n",
      "\u001b[36mFile \u001b[39m\u001b[32md:\\Codes\\GitHub\\my_projects\\open-geodata\\.venv\\Lib\\site-packages\\pandas\\core\\indexes\\base.py:3819\u001b[39m, in \u001b[36mIndex.get_loc\u001b[39m\u001b[34m(self, key)\u001b[39m\n\u001b[32m   3814\u001b[39m     \u001b[38;5;28;01mif\u001b[39;00m \u001b[38;5;28misinstance\u001b[39m(casted_key, \u001b[38;5;28mslice\u001b[39m) \u001b[38;5;129;01mor\u001b[39;00m (\n\u001b[32m   3815\u001b[39m         \u001b[38;5;28misinstance\u001b[39m(casted_key, abc.Iterable)\n\u001b[32m   3816\u001b[39m         \u001b[38;5;129;01mand\u001b[39;00m \u001b[38;5;28many\u001b[39m(\u001b[38;5;28misinstance\u001b[39m(x, \u001b[38;5;28mslice\u001b[39m) \u001b[38;5;28;01mfor\u001b[39;00m x \u001b[38;5;129;01min\u001b[39;00m casted_key)\n\u001b[32m   3817\u001b[39m     ):\n\u001b[32m   3818\u001b[39m         \u001b[38;5;28;01mraise\u001b[39;00m InvalidIndexError(key)\n\u001b[32m-> \u001b[39m\u001b[32m3819\u001b[39m     \u001b[38;5;28;01mraise\u001b[39;00m \u001b[38;5;167;01mKeyError\u001b[39;00m(key) \u001b[38;5;28;01mfrom\u001b[39;00m\u001b[38;5;250m \u001b[39m\u001b[34;01merr\u001b[39;00m\n\u001b[32m   3820\u001b[39m \u001b[38;5;28;01mexcept\u001b[39;00m \u001b[38;5;167;01mTypeError\u001b[39;00m:\n\u001b[32m   3821\u001b[39m     \u001b[38;5;66;03m# If we have a listlike key, _check_indexing_error will raise\u001b[39;00m\n\u001b[32m   3822\u001b[39m     \u001b[38;5;66;03m#  InvalidIndexError. Otherwise we fall through and re-raise\u001b[39;00m\n\u001b[32m   3823\u001b[39m     \u001b[38;5;66;03m#  the TypeError.\u001b[39;00m\n\u001b[32m   3824\u001b[39m     \u001b[38;5;28mself\u001b[39m._check_indexing_error(key)\n",
      "\u001b[31mKeyError\u001b[39m: 'municipio_cetesb'"
     ]
    }
   ],
   "source": [
    "cetesb.get_all_agencias_adjusted()"
   ]
  },
  {
   "cell_type": "markdown",
   "id": "9bb227ce",
   "metadata": {},
   "source": [
    "<br>\n",
    "\n",
    "-----\n",
    "\n",
    "## Agências Ambientais"
   ]
  },
  {
   "cell_type": "code",
   "execution_count": null,
   "id": "7c0d3816",
   "metadata": {},
   "outputs": [],
   "source": [
    "cetesb.get_only_agencias()"
   ]
  },
  {
   "cell_type": "markdown",
   "id": "3e73b459",
   "metadata": {},
   "source": [
    "<br>\n",
    "\n",
    "----\n",
    "\n",
    "## Geodataframe"
   ]
  },
  {
   "cell_type": "code",
   "execution_count": null,
   "id": "20f08335",
   "metadata": {},
   "outputs": [],
   "source": [
    "gdf = cetesb.get_geodataframe()\n",
    "gdf.info()\n",
    "gdf.head()"
   ]
  },
  {
   "cell_type": "code",
   "execution_count": null,
   "id": "99dbbd8b",
   "metadata": {},
   "outputs": [],
   "source": [
    "temp_path = Path(tempfile.gettempdir()) / 'open_geodata'\n",
    "temp_path.mkdir(exist_ok=True)"
   ]
  },
  {
   "cell_type": "code",
   "execution_count": null,
   "id": "2d86e89d",
   "metadata": {},
   "outputs": [],
   "source": [
    "gdf.to_file(\n",
    "    temp_path / 'sp_cetesb.gpkg',\n",
    "    layer='sp_cetesb',\n",
    "    driver='GPKG',\n",
    ")\n",
    "\n",
    "gdf.to_file(\n",
    "    temp_path / 'sp_cetesb.geojson',\n",
    "    driver='GeoJSON',\n",
    "    encoding='utf-8',\n",
    ")"
   ]
  },
  {
   "cell_type": "code",
   "execution_count": null,
   "id": "eb0ed6e4",
   "metadata": {},
   "outputs": [],
   "source": [
    "gdf.explore(column='agencia')"
   ]
  },
  {
   "cell_type": "code",
   "execution_count": null,
   "id": "8f647382",
   "metadata": {},
   "outputs": [],
   "source": []
  }
 ],
 "metadata": {
  "kernelspec": {
   "display_name": ".venv",
   "language": "python",
   "name": "python3"
  },
  "language_info": {
   "codemirror_mode": {
    "name": "ipython",
    "version": 3
   },
   "file_extension": ".py",
   "mimetype": "text/x-python",
   "name": "python",
   "nbconvert_exporter": "python",
   "pygments_lexer": "ipython3",
   "version": "3.11.12"
  }
 },
 "nbformat": 4,
 "nbformat_minor": 5
}
