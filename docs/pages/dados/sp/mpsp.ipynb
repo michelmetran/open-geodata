{
 "cells": [
  {
   "cell_type": "markdown",
   "id": "48445b0a",
   "metadata": {},
   "source": [
    "<br>\n",
    "\n",
    "# MPSP\n",
    "\n",
    "[![Repo](https://img.shields.io/badge/GitHub-repo-blue?logo=github&logoColor=f5f5f5)](https://github.com/open-geodata/sp_mpsp_divadmin)\n"
   ]
  },
  {
   "cell_type": "code",
   "execution_count": null,
   "id": "742fc4a8",
   "metadata": {},
   "outputs": [],
   "source": [
    "import tempfile\n",
    "from pathlib import Path\n",
    "\n",
    "import open_geodata as geo"
   ]
  },
  {
   "cell_type": "code",
   "execution_count": null,
   "id": "65bd1460",
   "metadata": {},
   "outputs": [],
   "source": [
    "db = geo.data.DB(db='sp_mpsp')\n",
    "db.list_data"
   ]
  },
  {
   "cell_type": "code",
   "execution_count": null,
   "id": "8f647382",
   "metadata": {},
   "outputs": [],
   "source": [
    "gdf = geo.load_dataset(db='sp_mpsp', name='div_admin.sp_mpsp_gaema')\n",
    "gdf.head()"
   ]
  },
  {
   "cell_type": "code",
   "execution_count": null,
   "id": "228af8eb",
   "metadata": {},
   "outputs": [],
   "source": [
    "gdf.explore(column='gaema_nome')"
   ]
  },
  {
   "cell_type": "code",
   "execution_count": null,
   "id": "854f7735",
   "metadata": {},
   "outputs": [],
   "source": []
  }
 ],
 "metadata": {
  "kernelspec": {
   "display_name": ".venv",
   "language": "python",
   "name": "python3"
  },
  "language_info": {
   "codemirror_mode": {
    "name": "ipython",
    "version": 3
   },
   "file_extension": ".py",
   "mimetype": "text/x-python",
   "name": "python",
   "nbconvert_exporter": "python",
   "pygments_lexer": "ipython3",
   "version": "3.11.12"
  }
 },
 "nbformat": 4,
 "nbformat_minor": 5
}
