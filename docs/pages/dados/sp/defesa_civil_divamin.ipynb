{
 "cells": [
  {
   "cell_type": "markdown",
   "id": "48445b0a",
   "metadata": {},
   "source": [
    "<br>\n",
    "\n",
    "# Defesa Civil\n",
    "\n",
    "[![Repo](https://img.shields.io/badge/GitHub-repo-blue?logo=github&logoColor=f5f5f5)](https://github.com/open-geodata/sp_defesacivil_divadmin)\n"
   ]
  },
  {
   "cell_type": "code",
   "execution_count": null,
   "id": "742fc4a8",
   "metadata": {},
   "outputs": [],
   "source": [
    "import tempfile\n",
    "from pathlib import Path\n",
    "\n",
    "import open_geodata as geo"
   ]
  },
  {
   "cell_type": "code",
   "execution_count": null,
   "id": "0524260e",
   "metadata": {},
   "outputs": [],
   "source": [
    "gdf = geo.data.load_dataset(db='sp_defesa_civil', name='geo.sp_defesa_civil')\n",
    "gdf.head()"
   ]
  },
  {
   "cell_type": "code",
   "execution_count": null,
   "id": "005e8a7d",
   "metadata": {},
   "outputs": [],
   "source": [
    "gdf.explore(column='repdec_regiao')"
   ]
  },
  {
   "cell_type": "code",
   "execution_count": null,
   "id": "99dbbd8b",
   "metadata": {},
   "outputs": [],
   "source": [
    "temp_path = Path(tempfile.gettempdir()) / 'open_geodata'\n",
    "temp_path.mkdir(exist_ok=True)"
   ]
  },
  {
   "cell_type": "code",
   "execution_count": null,
   "id": "2d86e89d",
   "metadata": {},
   "outputs": [],
   "source": [
    "gdf.to_file(\n",
    "    temp_path / 'sp_cetesb.gpkg',\n",
    "    layer='sp_cetesb',\n",
    "    driver='GPKG',\n",
    ")\n",
    "\n",
    "gdf.to_file(\n",
    "    temp_path / 'sp_cetesb.geojson',\n",
    "    driver='GeoJSON',\n",
    "    encoding='utf-8',\n",
    ")"
   ]
  },
  {
   "cell_type": "code",
   "execution_count": null,
   "id": "8f647382",
   "metadata": {},
   "outputs": [],
   "source": []
  }
 ],
 "metadata": {
  "kernelspec": {
   "display_name": ".venv",
   "language": "python",
   "name": "python3"
  },
  "language_info": {
   "codemirror_mode": {
    "name": "ipython",
    "version": 3
   },
   "file_extension": ".py",
   "mimetype": "text/x-python",
   "name": "python",
   "nbconvert_exporter": "python",
   "pygments_lexer": "ipython3",
   "version": "3.11.12"
  }
 },
 "nbformat": 4,
 "nbformat_minor": 5
}
