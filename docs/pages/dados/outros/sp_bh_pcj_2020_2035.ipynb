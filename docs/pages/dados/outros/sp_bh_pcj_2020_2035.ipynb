{
 "cells": [
  {
   "cell_type": "markdown",
   "id": "cfa28a69",
   "metadata": {},
   "source": [
    "<br>\n",
    "\n",
    "# sp_bh_pcj_2020_2035\n",
    "\n",
    "\n",
    "[![Repo](https://img.shields.io/badge/GitHub-repo-blue?logo=github&logoColor=f5f5f5)](https://github.com/open-geodata/sp_bh_pcj-2020-2035)\n"
   ]
  },
  {
   "cell_type": "code",
   "execution_count": null,
   "id": "32cbfe0e",
   "metadata": {},
   "outputs": [],
   "source": [
    "import open_geodata as geo"
   ]
  },
  {
   "cell_type": "code",
   "execution_count": null,
   "id": "4ab3c3a5",
   "metadata": {},
   "outputs": [],
   "source": [
    "db = geo.data.DB(db='sp_bh_pcj_2020_2035')\n",
    "db.list_data"
   ]
  },
  {
   "cell_type": "code",
   "execution_count": null,
   "id": "1cddf6aa",
   "metadata": {},
   "outputs": [],
   "source": [
    "gdf = geo.load_dataset(\n",
    "    db='sp_bh_pcj_2020_2035', name='geo.limite da bacia pcj - poligonos'\n",
    ")\n",
    "gdf.head()"
   ]
  },
  {
   "cell_type": "code",
   "execution_count": null,
   "id": "67103ebf",
   "metadata": {},
   "outputs": [],
   "source": [
    "m = gdf.explore(column='NM_BACIA')\n",
    "m"
   ]
  },
  {
   "cell_type": "code",
   "execution_count": null,
   "id": "8683b049",
   "metadata": {},
   "outputs": [],
   "source": []
  }
 ],
 "metadata": {
  "kernelspec": {
   "display_name": ".venv",
   "language": "python",
   "name": "python3"
  },
  "language_info": {
   "codemirror_mode": {
    "name": "ipython",
    "version": 3
   },
   "file_extension": ".py",
   "mimetype": "text/x-python",
   "name": "python",
   "nbconvert_exporter": "python",
   "pygments_lexer": "ipython3",
   "version": "3.11.12"
  }
 },
 "nbformat": 4,
 "nbformat_minor": 5
}
