{
 "cells": [
  {
   "cell_type": "markdown",
   "id": "4c7ee12d",
   "metadata": {},
   "source": [
    "<br>\n",
    "\n",
    "# Atlas Rural de Piracicaba\n",
    "\n",
    "[![Repo](https://img.shields.io/badge/GitHub-repo-blue?logo=github&logoColor=f5f5f5)](https://github.com/open-geodata/sp_piracicaba_atlasrural)\n"
   ]
  },
  {
   "cell_type": "code",
   "execution_count": null,
   "id": "becd8e30",
   "metadata": {},
   "outputs": [],
   "source": [
    "import open_geodata as geo"
   ]
  },
  {
   "cell_type": "code",
   "execution_count": null,
   "id": "df47aa0c",
   "metadata": {},
   "outputs": [],
   "source": [
    "db = geo.data.DB(db='sp_atlas_rural_piracicaba')\n",
    "db.list_data"
   ]
  },
  {
   "cell_type": "code",
   "execution_count": null,
   "id": "45f5949f",
   "metadata": {},
   "outputs": [],
   "source": [
    "gdf = geo.load_dataset(db='sp_atlas_rural_piracicaba', name='geo.drenagem')"
   ]
  },
  {
   "cell_type": "code",
   "execution_count": null,
   "id": "e43ddacf",
   "metadata": {},
   "outputs": [],
   "source": [
    "gdf.explore()"
   ]
  }
 ],
 "metadata": {
  "kernelspec": {
   "display_name": ".venv",
   "language": "python",
   "name": "python3"
  },
  "language_info": {
   "codemirror_mode": {
    "name": "ipython",
    "version": 3
   },
   "file_extension": ".py",
   "mimetype": "text/x-python",
   "name": "python",
   "nbconvert_exporter": "python",
   "pygments_lexer": "ipython3",
   "version": "3.11.12"
  }
 },
 "nbformat": 4,
 "nbformat_minor": 5
}
