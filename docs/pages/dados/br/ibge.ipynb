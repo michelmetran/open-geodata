{
 "cells": [
  {
   "cell_type": "markdown",
   "id": "f37b96e6",
   "metadata": {},
   "source": [
    "<br>\n",
    "\n",
    "# IBGE\n",
    "\n",
    "O [**GeoFTP do IBGE**](http://geoftp.ibge.gov.br/) é o servidor do [**Instituto Brasileiro de Geografia e Estatistica (IBGE)**](https://www.infraestruturameioambiente.sp.gov.br) que disponibiliza diversas informações relevantes, majoritariamente em formato _shapefile_, ou seja, em formato editável, sendo que os dados armazenados nesse repositório são derivados destes.\n"
   ]
  },
  {
   "cell_type": "code",
   "execution_count": null,
   "id": "08c65845",
   "metadata": {},
   "outputs": [],
   "source": [
    "import tempfile\n",
    "from pathlib import Path\n",
    "\n",
    "import open_geodata as geo"
   ]
  },
  {
   "cell_type": "markdown",
   "id": "d3bbeeda",
   "metadata": {},
   "source": [
    "<br>\n",
    "\n",
    "----\n",
    "\n",
    "## Obtem Dados"
   ]
  },
  {
   "cell_type": "code",
   "execution_count": null,
   "id": "da81e59d",
   "metadata": {},
   "outputs": [],
   "source": [
    "# Instancia classe IBGE\n",
    "ibge = geo.br.ibge.geoftp.IBGE()\n",
    "\n",
    "# Obtem Malhas de 2018\n",
    "gdf = ibge.get_malhas_municipais()\n",
    "\n",
    "# Resultados\n",
    "gdf.info()\n",
    "gdf.head()"
   ]
  },
  {
   "cell_type": "markdown",
   "id": "a683417a",
   "metadata": {},
   "source": [
    "<br>\n",
    "\n",
    "----\n",
    "\n",
    "## Filtrando"
   ]
  },
  {
   "cell_type": "code",
   "execution_count": null,
   "id": "758cd0d2",
   "metadata": {},
   "outputs": [],
   "source": [
    "gdf = gdf.loc[gdf['id_municipio'] == 3504206]\n",
    "gdf"
   ]
  },
  {
   "cell_type": "markdown",
   "id": "68b5672d",
   "metadata": {},
   "source": [
    "<br>\n",
    "\n",
    "-----\n",
    "\n",
    "## Datuns"
   ]
  },
  {
   "cell_type": "code",
   "execution_count": null,
   "id": "73924cfb",
   "metadata": {},
   "outputs": [],
   "source": [
    "# Reprojeta\n",
    "print(gdf.crs)\n",
    "gdf = gdf.to_crs(epsg=4326)\n",
    "print(gdf.crs)"
   ]
  },
  {
   "cell_type": "markdown",
   "id": "9c0c1406",
   "metadata": {},
   "source": [
    "<br>\n",
    "\n",
    "\n",
    "-----\n",
    "\n",
    "## Explorando"
   ]
  },
  {
   "cell_type": "code",
   "execution_count": null,
   "id": "f8511757",
   "metadata": {},
   "outputs": [],
   "source": [
    "gdf.explore()"
   ]
  },
  {
   "cell_type": "markdown",
   "id": "9fe3b775",
   "metadata": {},
   "source": [
    "<br>\n",
    "\n",
    "-----\n",
    "\n",
    "## Salvando\n",
    "\n",
    "Em uma pasta temporária"
   ]
  },
  {
   "cell_type": "code",
   "execution_count": null,
   "id": "1e3b1fa4",
   "metadata": {},
   "outputs": [],
   "source": [
    "# Salva\n",
    "with tempfile.TemporaryDirectory() as temp_dir:\n",
    "    # Cria o caminho temporário em formato Path\n",
    "    temp_path = Path(temp_dir)\n",
    "\n",
    "    # Salva em GeoJSON e GPKG\n",
    "    gdf.to_file(\n",
    "        temp_path / 'limite_municipal_sp.geojson',\n",
    "        driver='GeoJSON',\n",
    "        encoding='utf-8',\n",
    "    )\n",
    "    gdf.to_file(\n",
    "        temp_path / 'limite_municipal_sp.gpkg',\n",
    "        layer='Limite',\n",
    "        driver='GPKG',\n",
    "    )"
   ]
  },
  {
   "cell_type": "markdown",
   "id": "72721c7f",
   "metadata": {},
   "source": [
    "<br>\n",
    "\n",
    "\n",
    "----\n",
    "\n",
    "## *Download* \n",
    "\n",
    "Faz o *download* do arquivo bruto"
   ]
  },
  {
   "cell_type": "code",
   "execution_count": null,
   "id": "30507aa2",
   "metadata": {},
   "outputs": [],
   "source": [
    "with tempfile.TemporaryDirectory() as temp_dir:\n",
    "    temp_path = Path(temp_dir)\n",
    "    ibge.download_malhas_municipais(output_path=temp_path)\n",
    "    print(list(temp_path.glob('*')))"
   ]
  },
  {
   "cell_type": "code",
   "execution_count": null,
   "id": "9800f1ff",
   "metadata": {},
   "outputs": [],
   "source": []
  }
 ],
 "metadata": {
  "kernelspec": {
   "display_name": ".venv",
   "language": "python",
   "name": "python3"
  },
  "language_info": {
   "codemirror_mode": {
    "name": "ipython",
    "version": 3
   },
   "file_extension": ".py",
   "mimetype": "text/x-python",
   "name": "python",
   "nbconvert_exporter": "python",
   "pygments_lexer": "ipython3",
   "version": "3.11.12"
  }
 },
 "nbformat": 4,
 "nbformat_minor": 5
}
