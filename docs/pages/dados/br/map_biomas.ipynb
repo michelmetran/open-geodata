{
 "cells": [
  {
   "cell_type": "markdown",
   "id": "ba1e8c3b",
   "metadata": {},
   "source": [
    "<br>\n",
    "\n",
    "# MapBiomas\n",
    "\n",
    "[![Repo](https://img.shields.io/badge/GitHub-repo-blue?logo=github&logoColor=f5f5f5)](https://github.com/mapbiomas-brazil)\n",
    "\n",
    "O [MapBiomas](https://brasil.mapbiomas.org/) é uma rede colaborativa de co-criadores, composta por ONGs, universidades e empresas de tecnologia, que tem como objetivo principal mapear anualmente a cobertura e o uso da terra no Brasil e monitorar as mudanças no território. Essa iniciativa do Observatório do Clima utiliza tecnologia de alta qualidade e baixo custo para produzir séries anuais de mapas desde 1985 até o presente.\n",
    "\n",
    "<br>\n",
    "\n",
    "**Como o MapBiomas funciona?**\n",
    "\n",
    "O MapBiomas funciona através de um processo automatizado e distribuído, utilizando a plataforma Google Earth Engine. As principais etapas de seu funcionamento incluem:\n",
    "\n",
    "- Coleta de Imagens de Satélite: Utiliza grandes volumes de imagens de satélite, principalmente da série Landsat, que registram o planeta desde 1985. Essas imagens são capturadas periodicamente (a cada 15-17 dias), fornecendo uma base de dados histórica e atualizada.\n",
    "- Processamento e Classificação: Divide o território brasileiro em bilhões de \"pedacinhos\" (pixels de 30x30 metros). Para cada um desses pixels, algoritmos de inteligência artificial são aplicados para classificar o tipo de cobertura e uso da terra (ex: floresta, pastagem, agricultura, água, área urbana, etc.) em cada ano da série histórica.\n",
    "- Filtro Temporal: Aplica regras de filtro temporal para garantir a consistência e a precisão dos dados ao longo dos anos, minimizando erros e flutuações temporárias.\n",
    "- Integração de Mapas: Os mapas de cada classe de cobertura e uso são integrados em um único mapa que representa o estado do território brasileiro para cada ano.\n",
    "- MapBiomas Alerta: Uma vertente do MapBiomas, o MapBiomas Alerta, valida e refina alertas de desmatamento gerados por outros sistemas de monitoramento (como o DETER do INPE), utilizando imagens de alta resolução e inteligência artificial. Isso gera laudos detalhados que auxiliam a fiscalização ambiental.\n",
    "\n",
    "<br>\n",
    "\n",
    "---\n",
    "\n",
    "**Qual a importância do MapBiomas?**\n",
    "\n",
    "A importância do MapBiomas é multifacetada e crucial para a gestão ambiental e o desenvolvimento sustentável do Brasil:\n",
    "\n",
    "- Monitoramento Ambiental: Fornece dados confiáveis e atualizados sobre as mudanças na cobertura e uso da terra, permitindo o monitoramento contínuo do desmatamento, da regeneração florestal, da expansão agrícola, da mineração, entre outros.\n",
    "- Subsídio a Políticas Públicas: As informações geradas são essenciais para a formulação e implementação de políticas públicas relacionadas à conservação, ao combate às mudanças climáticas e à regularização ambiental (como o Cadastro Ambiental Rural - CAR).\n",
    "- Fiscalização e Combate a Crimes Ambientais: Através do MapBiomas Alerta, o projeto oferece informações detalhadas sobre desmatamentos, que são utilizadas por órgãos fiscalizadores (IBAMA, ICMBio, Secretarias de Meio Ambiente) para planejar ações de fiscalização e combater o desmatamento ilegal.\n",
    "- Transparência e Acesso à Informação: Os dados do MapBiomas são abertos e acessíveis ao público, permitindo que pesquisadores, gestores, sociedade civil e cidadãos em geral possam acessar e utilizar essas informações para análise, pesquisa e tomada de decisões informadas.\n",
    "- Pesquisa Científica e Acadêmica: Os dados do MapBiomas são amplamente utilizados em pesquisas científicas e estudos acadêmicos sobre mudanças ambientais, uso do solo e impactos climáticos.\n",
    "- Inovação Tecnológica: O projeto demonstra o potencial do uso de sensoriamento remoto, inteligência artificial e plataformas de computação em nuvem para o monitoramento ambiental em larga escala.\n",
    "\n",
    "<br>\n",
    "\n",
    "Em suma, o MapBiomas é uma ferramenta estratégica que democratiza o acesso a informações ambientais de alta qualidade, contribuindo significativamente para a conservação dos recursos naturais e para o enfrentamento dos desafios das mudanças climáticas no Brasil.\n"
   ]
  },
  {
   "cell_type": "code",
   "execution_count": null,
   "id": "9f543d53",
   "metadata": {},
   "outputs": [],
   "source": [
    "#!pip3 install geemap --upgrade"
   ]
  },
  {
   "cell_type": "code",
   "execution_count": null,
   "id": "5ea1d78a",
   "metadata": {},
   "outputs": [],
   "source": [
    "#import pprint\n",
    "#from datetime import date, datetime, timedelta\n",
    "\n",
    "# import geemap\n",
    "import pprint\n",
    "\n",
    "import ee\n",
    "import folium\n",
    "import geemap\n",
    "import pandas as pd\n",
    "\n",
    "import open_geodata as geo\n",
    "\n",
    "#import geopandas as gpd\n",
    "#import IPython.display as disp\n",
    "#import matplotlib.pyplot as plt\n",
    "#import numpy as np\n",
    "\n",
    "#from scipy.stats import chi2, f, gamma, norm"
   ]
  },
  {
   "cell_type": "code",
   "execution_count": null,
   "id": "5e8e2495",
   "metadata": {},
   "outputs": [],
   "source": [
    "# Trigger the authentication flow.\n",
    "ee.Authenticate()\n",
    "ee.Initialize(project='ee-python-michel')"
   ]
  },
  {
   "cell_type": "markdown",
   "id": "bdc5fb1a",
   "metadata": {},
   "source": [
    "<br>\n",
    "\n",
    "-----\n",
    "\n",
    "## Coleção 9"
   ]
  },
  {
   "cell_type": "code",
   "execution_count": null,
   "id": "6bfe5dce",
   "metadata": {},
   "outputs": [],
   "source": [
    "image = ee.Image('projects/mapbiomas-public/assets/brazil/lulc/collection9/mapbiomas_collection90_integration_v1')\n",
    "image.getInfo()"
   ]
  },
  {
   "cell_type": "code",
   "execution_count": null,
   "id": "c51f98a8",
   "metadata": {},
   "outputs": [],
   "source": [
    "for k in image.getInfo()['bands']:\n",
    "    lyr = k['id']\n",
    "    print(lyr)"
   ]
  },
  {
   "cell_type": "code",
   "execution_count": null,
   "id": "b00486bc",
   "metadata": {},
   "outputs": [],
   "source": [
    "image = image.select('classification_2023')\n",
    "image.getInfo()"
   ]
  },
  {
   "cell_type": "code",
   "execution_count": null,
   "id": "774b23ea",
   "metadata": {},
   "outputs": [],
   "source": [
    "lyr"
   ]
  },
  {
   "cell_type": "markdown",
   "id": "fdeb561c",
   "metadata": {},
   "source": [
    "<br>\n",
    "\n",
    "-----\n",
    "\n",
    "## Legenda"
   ]
  },
  {
   "cell_type": "code",
   "execution_count": null,
   "id": "439392c4",
   "metadata": {},
   "outputs": [],
   "source": [
    "db = geo.data.DB(db='map_biomas')\n",
    "db.json"
   ]
  },
  {
   "cell_type": "code",
   "execution_count": null,
   "id": "e41904c8",
   "metadata": {},
   "outputs": [],
   "source": [
    "filepath = db.get_data(name='tab.codigos-da-legenda-colecao-9')\n",
    "filepath"
   ]
  },
  {
   "cell_type": "code",
   "execution_count": null,
   "id": "d229b8bf",
   "metadata": {},
   "outputs": [],
   "source": [
    "df = pd.read_csv(filepath_or_buffer=filepath, sep='\\t')\n",
    "df = df.sort_values(by='Class_ID')\n",
    "df.head()"
   ]
  },
  {
   "cell_type": "code",
   "execution_count": null,
   "id": "be821f55",
   "metadata": {},
   "outputs": [],
   "source": [
    "legend_dict = dict(zip(df['Descricao'], df['Color']))"
   ]
  },
  {
   "cell_type": "markdown",
   "id": "116848e2",
   "metadata": {},
   "source": [
    "[Descritores de camadas estilizados](https://developers.google.com/earth-engine/guides/image_visualization?hl=pt-br#styled-layer-descriptors)\n",
    "\n",
    "https://geemap.org/notebooks/14_legends/"
   ]
  },
  {
   "cell_type": "code",
   "execution_count": null,
   "id": "af25f86d",
   "metadata": {},
   "outputs": [],
   "source": [
    "list_str = []\n",
    "list_str.append('<RasterSymbolizer>')\n",
    "list_str.append('<ColorMap  type=\"intervals\" extended=\"false\" >')\n",
    "for index, row in df.iterrows():\n",
    "    id_color = row['Class_ID']\n",
    "    color = row['Color']\n",
    "    descricao = row['Descricao']\n",
    "\n",
    "    list_str.append(\n",
    "        f'<ColorMapEntry color=\"{color}\" quantity=\"{id_color}\" label=\"{descricao}\"/>'\n",
    "    )\n",
    "\n",
    "\n",
    "list_str.append('</ColorMap>')\n",
    "list_str.append('</RasterSymbolizer>')\n",
    "sld_intervals = '\\n'.join(list_str)\n",
    "pprint.pprint(sld_intervals)"
   ]
  },
  {
   "cell_type": "code",
   "execution_count": null,
   "id": "13288b62",
   "metadata": {},
   "outputs": [
    {
     "ename": "",
     "evalue": "",
     "output_type": "error",
     "traceback": [
      "\u001b[1;31mThe Kernel crashed while executing code in the current cell or a previous cell. \n",
      "\u001b[1;31mPlease review the code in the cell(s) to identify a possible cause of the failure. \n",
      "\u001b[1;31mClick <a href='https://aka.ms/vscodeJupyterKernelCrash'>here</a> for more info. \n",
      "\u001b[1;31mView Jupyter <a href='command:jupyter.viewOutput'>log</a> for further details."
     ]
    }
   ],
   "source": [
    "# Apply the SLD style to the image.\n",
    "cover_sld = image.sldStyle(sld_intervals)\n",
    "\n",
    "# Define a map centered on the United States.\n",
    "m = geemap.Map(center=[-10, -48], zoom=5)\n",
    "\n",
    "# Add the image layer to the map and display it.\n",
    "m.add_layer(cover_sld, None, 'MapBiomas')\n",
    "\n",
    "m.add_legend(\n",
    "    title='MapBiomas Classification',\n",
    "    legend_dict=legend_dict,\n",
    "    layer_name='MapBiomas',\n",
    ")\n",
    "\n",
    "display(m)"
   ]
  },
  {
   "cell_type": "code",
   "execution_count": null,
   "id": "c60efc91",
   "metadata": {},
   "outputs": [],
   "source": []
  }
 ],
 "metadata": {
  "kernelspec": {
   "display_name": ".venv",
   "language": "python",
   "name": "python3"
  },
  "language_info": {
   "codemirror_mode": {
    "name": "ipython",
    "version": 3
   },
   "file_extension": ".py",
   "mimetype": "text/x-python",
   "name": "python",
   "nbconvert_exporter": "python",
   "pygments_lexer": "ipython3",
   "version": "3.11.12"
  }
 },
 "nbformat": 4,
 "nbformat_minor": 5
}
