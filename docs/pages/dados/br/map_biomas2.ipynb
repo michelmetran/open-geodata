{
 "cells": [
  {
   "cell_type": "markdown",
   "id": "ba1e8c3b",
   "metadata": {},
   "source": [
    "<br>\n",
    "\n",
    "# MapBiomas\n",
    "\n",
    "[![Repo](https://img.shields.io/badge/GitHub-repo-blue?logo=github&logoColor=f5f5f5)](https://github.com/mapbiomas-brazil)\n",
    "\n",
    "O [MapBiomas](https://brasil.mapbiomas.org/) é uma rede colaborativa de co-criadores, composta por ONGs, universidades e empresas de tecnologia, que tem como objetivo principal mapear anualmente a cobertura e o uso da terra no Brasil e monitorar as mudanças no território. Essa iniciativa do Observatório do Clima utiliza tecnologia de alta qualidade e baixo custo para produzir séries anuais de mapas desde 1985 até o presente.\n",
    "\n",
    "<br>\n",
    "\n",
    "**Como o MapBiomas funciona?**\n",
    "\n",
    "O MapBiomas funciona através de um processo automatizado e distribuído, utilizando a plataforma Google Earth Engine. As principais etapas de seu funcionamento incluem:\n",
    "\n",
    "- Coleta de Imagens de Satélite: Utiliza grandes volumes de imagens de satélite, principalmente da série Landsat, que registram o planeta desde 1985. Essas imagens são capturadas periodicamente (a cada 15-17 dias), fornecendo uma base de dados histórica e atualizada.\n",
    "- Processamento e Classificação: Divide o território brasileiro em bilhões de \"pedacinhos\" (pixels de 30x30 metros). Para cada um desses pixels, algoritmos de inteligência artificial são aplicados para classificar o tipo de cobertura e uso da terra (ex: floresta, pastagem, agricultura, água, área urbana, etc.) em cada ano da série histórica.\n",
    "- Filtro Temporal: Aplica regras de filtro temporal para garantir a consistência e a precisão dos dados ao longo dos anos, minimizando erros e flutuações temporárias.\n",
    "- Integração de Mapas: Os mapas de cada classe de cobertura e uso são integrados em um único mapa que representa o estado do território brasileiro para cada ano.\n",
    "- MapBiomas Alerta: Uma vertente do MapBiomas, o MapBiomas Alerta, valida e refina alertas de desmatamento gerados por outros sistemas de monitoramento (como o DETER do INPE), utilizando imagens de alta resolução e inteligência artificial. Isso gera laudos detalhados que auxiliam a fiscalização ambiental.\n",
    "\n",
    "<br>\n",
    "\n",
    "---\n",
    "\n",
    "**Qual a importância do MapBiomas?**\n",
    "\n",
    "A importância do MapBiomas é multifacetada e crucial para a gestão ambiental e o desenvolvimento sustentável do Brasil:\n",
    "\n",
    "- Monitoramento Ambiental: Fornece dados confiáveis e atualizados sobre as mudanças na cobertura e uso da terra, permitindo o monitoramento contínuo do desmatamento, da regeneração florestal, da expansão agrícola, da mineração, entre outros.\n",
    "- Subsídio a Políticas Públicas: As informações geradas são essenciais para a formulação e implementação de políticas públicas relacionadas à conservação, ao combate às mudanças climáticas e à regularização ambiental (como o Cadastro Ambiental Rural - CAR).\n",
    "- Fiscalização e Combate a Crimes Ambientais: Através do MapBiomas Alerta, o projeto oferece informações detalhadas sobre desmatamentos, que são utilizadas por órgãos fiscalizadores (IBAMA, ICMBio, Secretarias de Meio Ambiente) para planejar ações de fiscalização e combater o desmatamento ilegal.\n",
    "- Transparência e Acesso à Informação: Os dados do MapBiomas são abertos e acessíveis ao público, permitindo que pesquisadores, gestores, sociedade civil e cidadãos em geral possam acessar e utilizar essas informações para análise, pesquisa e tomada de decisões informadas.\n",
    "- Pesquisa Científica e Acadêmica: Os dados do MapBiomas são amplamente utilizados em pesquisas científicas e estudos acadêmicos sobre mudanças ambientais, uso do solo e impactos climáticos.\n",
    "- Inovação Tecnológica: O projeto demonstra o potencial do uso de sensoriamento remoto, inteligência artificial e plataformas de computação em nuvem para o monitoramento ambiental em larga escala.\n",
    "\n",
    "<br>\n",
    "\n",
    "Em suma, o MapBiomas é uma ferramenta estratégica que democratiza o acesso a informações ambientais de alta qualidade, contribuindo significativamente para a conservação dos recursos naturais e para o enfrentamento dos desafios das mudanças climáticas no Brasil.\n"
   ]
  },
  {
   "cell_type": "code",
   "execution_count": null,
   "id": "9f543d53",
   "metadata": {},
   "outputs": [],
   "source": [
    "#!pip3 install geemap --upgrade"
   ]
  },
  {
   "cell_type": "code",
   "execution_count": null,
   "id": "5ea1d78a",
   "metadata": {},
   "outputs": [],
   "source": [
    "import pprint\n",
    "from datetime import date, datetime, timedelta\n",
    "\n",
    "import ee\n",
    "import folium\n",
    "\n",
    "# import geemap\n",
    "import geopandas as gpd\n",
    "import IPython.display as disp\n",
    "import matplotlib.pyplot as plt\n",
    "import numpy as np\n",
    "\n",
    "from scipy.stats import chi2, f, gamma, norm"
   ]
  },
  {
   "cell_type": "code",
   "execution_count": null,
   "id": "5e8e2495",
   "metadata": {},
   "outputs": [],
   "source": [
    "# Trigger the authentication flow.\n",
    "ee.Authenticate()\n",
    "ee.Initialize(project='ee-python-michel')"
   ]
  },
  {
   "cell_type": "markdown",
   "id": "bdc5fb1a",
   "metadata": {},
   "source": [
    "<br>\n",
    "\n",
    "-----\n",
    "\n",
    "## Coleção 9"
   ]
  },
  {
   "cell_type": "code",
   "execution_count": null,
   "id": "6bfe5dce",
   "metadata": {},
   "outputs": [],
   "source": [
    "image = ee.Image('projects/mapbiomas-public/assets/brazil/lulc/collection9/mapbiomas_collection90_integration_v1')\n",
    "image.getInfo()"
   ]
  },
  {
   "cell_type": "code",
   "execution_count": null,
   "id": "c51f98a8",
   "metadata": {},
   "outputs": [],
   "source": [
    "for k in image.getInfo()['bands']:\n",
    "    lyr = k['id']\n",
    "    print(lyr)"
   ]
  },
  {
   "cell_type": "code",
   "execution_count": null,
   "id": "b00486bc",
   "metadata": {},
   "outputs": [
    {
     "data": {
      "text/plain": [
       "{'type': 'Image',\n",
       " 'bands': [{'id': 'classification_2023',\n",
       "   'data_type': {'type': 'PixelType',\n",
       "    'precision': 'int',\n",
       "    'min': 0,\n",
       "    'max': 255},\n",
       "   'dimensions': [155239, 158459],\n",
       "   'crs': 'EPSG:4326',\n",
       "   'crs_transform': [0.00026949458523585647,\n",
       "    0,\n",
       "    -74.89739613957876,\n",
       "    0,\n",
       "    -0.00026949458523585647,\n",
       "    7.91209152793951]}],\n",
       " 'version': 1724183689166930.0,\n",
       " 'id': 'projects/mapbiomas-public/assets/brazil/lulc/collection9/mapbiomas_collection90_integration_v1',\n",
       " 'properties': {'system:footprint': {'type': 'LinearRing',\n",
       "   'coordinates': [[-44.99120091146869, -34.79188619133721],\n",
       "    [-39.925146999777766, -34.79188617797568],\n",
       "    [-33.06113219577002, -34.791885974087286],\n",
       "    [-33.06118844262496, 7.9122266386845],\n",
       "    [-40.25198918862905, 7.912226776789873],\n",
       "    [-45.154622064354704, 7.912226754546059],\n",
       "    [-54.30620338690848, 7.912226723010938],\n",
       "    [-61.82357376194945, 7.9122267647797],\n",
       "    [-67.0530487992823, 7.912226736069681],\n",
       "    [-74.89753394200451, 7.912226654196493],\n",
       "    [-74.89759014548251, -34.79188593842208],\n",
       "    [-66.39936443186834, -34.791886164255445],\n",
       "    [-62.6406792145872, -34.791886185410064],\n",
       "    [-57.41120416895494, -34.79188618482935],\n",
       "    [-53.65251899146853, -34.791886180055464],\n",
       "    [-48.25962287443402, -34.79188616177485],\n",
       "    [-44.99120091146869, -34.79188619133721]]},\n",
       "  'system:asset_size': 34606723126}}"
      ]
     },
     "execution_count": 18,
     "metadata": {},
     "output_type": "execute_result"
    },
    {
     "ename": "",
     "evalue": "",
     "output_type": "error",
     "traceback": [
      "\u001b[1;31mThe Kernel crashed while executing code in the current cell or a previous cell. \n",
      "\u001b[1;31mPlease review the code in the cell(s) to identify a possible cause of the failure. \n",
      "\u001b[1;31mClick <a href='https://aka.ms/vscodeJupyterKernelCrash'>here</a> for more info. \n",
      "\u001b[1;31mView Jupyter <a href='command:jupyter.viewOutput'>log</a> for further details."
     ]
    }
   ],
   "source": [
    "image = image.select('classification_2023')\n",
    "image.getInfo()"
   ]
  },
  {
   "cell_type": "code",
   "execution_count": null,
   "id": "774b23ea",
   "metadata": {},
   "outputs": [],
   "source": [
    "lyr"
   ]
  },
  {
   "cell_type": "code",
   "execution_count": 16,
   "id": "906586fb",
   "metadata": {},
   "outputs": [
    {
     "data": {
      "text/plain": [
       "{'mapid': 'projects/ee-python-michel/maps/ed0bcf33666d277ef155e1cd9f48be41-d38bc52c01295159167063a4b3336a72',\n",
       " 'token': '',\n",
       " 'tile_fetcher': <ee.data.TileFetcher at 0x23c38c8ab50>,\n",
       " 'image': <ee.image.Image at 0x23c38785850>}"
      ]
     },
     "execution_count": 16,
     "metadata": {},
     "output_type": "execute_result"
    }
   ],
   "source": [
    "dict_id_map = image.getMapId(\n",
    "    vis_params={\n",
    "        'palette': ['red', 'orange', 'yellow', 'green', 'darkgreen'],\n",
    "        'min': 0,\n",
    "        'max': 0.8,\n",
    "    }\n",
    ")\n",
    "dict_id_map"
   ]
  },
  {
   "cell_type": "markdown",
   "id": "7d287a91",
   "metadata": {},
   "source": [
    "<br>\n",
    "\n",
    "-----\n",
    "\n",
    "## Visualizar"
   ]
  },
  {
   "cell_type": "code",
   "execution_count": 17,
   "id": "50c57e77",
   "metadata": {},
   "outputs": [
    {
     "data": {
      "text/html": [
       "<div style=\"width:100%;\"><div style=\"position:relative;width:100%;height:0;padding-bottom:60%;\"><span style=\"color:#565656\">Make this Notebook Trusted to load map: File -> Trust Notebook</span><iframe srcdoc=\"&lt;!DOCTYPE html&gt;\n",
       "&lt;html&gt;\n",
       "&lt;head&gt;\n",
       "    \n",
       "    &lt;meta http-equiv=&quot;content-type&quot; content=&quot;text/html; charset=UTF-8&quot; /&gt;\n",
       "    &lt;script src=&quot;https://cdn.jsdelivr.net/npm/leaflet@1.9.3/dist/leaflet.js&quot;&gt;&lt;/script&gt;\n",
       "    &lt;script src=&quot;https://code.jquery.com/jquery-3.7.1.min.js&quot;&gt;&lt;/script&gt;\n",
       "    &lt;script src=&quot;https://cdn.jsdelivr.net/npm/bootstrap@5.2.2/dist/js/bootstrap.bundle.min.js&quot;&gt;&lt;/script&gt;\n",
       "    &lt;script src=&quot;https://cdnjs.cloudflare.com/ajax/libs/Leaflet.awesome-markers/2.0.2/leaflet.awesome-markers.js&quot;&gt;&lt;/script&gt;\n",
       "    &lt;link rel=&quot;stylesheet&quot; href=&quot;https://cdn.jsdelivr.net/npm/leaflet@1.9.3/dist/leaflet.css&quot;/&gt;\n",
       "    &lt;link rel=&quot;stylesheet&quot; href=&quot;https://cdn.jsdelivr.net/npm/bootstrap@5.2.2/dist/css/bootstrap.min.css&quot;/&gt;\n",
       "    &lt;link rel=&quot;stylesheet&quot; href=&quot;https://netdna.bootstrapcdn.com/bootstrap/3.0.0/css/bootstrap-glyphicons.css&quot;/&gt;\n",
       "    &lt;link rel=&quot;stylesheet&quot; href=&quot;https://cdn.jsdelivr.net/npm/@fortawesome/fontawesome-free@6.2.0/css/all.min.css&quot;/&gt;\n",
       "    &lt;link rel=&quot;stylesheet&quot; href=&quot;https://cdnjs.cloudflare.com/ajax/libs/Leaflet.awesome-markers/2.0.2/leaflet.awesome-markers.css&quot;/&gt;\n",
       "    &lt;link rel=&quot;stylesheet&quot; href=&quot;https://cdn.jsdelivr.net/gh/python-visualization/folium/folium/templates/leaflet.awesome.rotate.min.css&quot;/&gt;\n",
       "    \n",
       "            &lt;meta name=&quot;viewport&quot; content=&quot;width=device-width,\n",
       "                initial-scale=1.0, maximum-scale=1.0, user-scalable=no&quot; /&gt;\n",
       "            &lt;style&gt;\n",
       "                #map_b49a43506685d428dcbd2cd6329c3c63 {\n",
       "                    position: relative;\n",
       "                    width: 100.0%;\n",
       "                    height: 100.0%;\n",
       "                    left: 0.0%;\n",
       "                    top: 0.0%;\n",
       "                }\n",
       "                .leaflet-container { font-size: 1rem; }\n",
       "            &lt;/style&gt;\n",
       "\n",
       "            &lt;style&gt;html, body {\n",
       "                width: 100%;\n",
       "                height: 100%;\n",
       "                margin: 0;\n",
       "                padding: 0;\n",
       "            }\n",
       "            &lt;/style&gt;\n",
       "\n",
       "            &lt;style&gt;#map {\n",
       "                position:absolute;\n",
       "                top:0;\n",
       "                bottom:0;\n",
       "                right:0;\n",
       "                left:0;\n",
       "                }\n",
       "            &lt;/style&gt;\n",
       "\n",
       "            &lt;script&gt;\n",
       "                L_NO_TOUCH = false;\n",
       "                L_DISABLE_3D = false;\n",
       "            &lt;/script&gt;\n",
       "\n",
       "        \n",
       "&lt;/head&gt;\n",
       "&lt;body&gt;\n",
       "    \n",
       "    \n",
       "            &lt;div class=&quot;folium-map&quot; id=&quot;map_b49a43506685d428dcbd2cd6329c3c63&quot; &gt;&lt;/div&gt;\n",
       "        \n",
       "&lt;/body&gt;\n",
       "&lt;script&gt;\n",
       "    \n",
       "    \n",
       "            var map_b49a43506685d428dcbd2cd6329c3c63 = L.map(\n",
       "                &quot;map_b49a43506685d428dcbd2cd6329c3c63&quot;,\n",
       "                {\n",
       "                    center: [0.0, 0.0],\n",
       "                    crs: L.CRS.EPSG3857,\n",
       "                    ...{\n",
       "  &quot;zoom&quot;: 1,\n",
       "  &quot;zoomControl&quot;: true,\n",
       "  &quot;preferCanvas&quot;: false,\n",
       "}\n",
       "\n",
       "                }\n",
       "            );\n",
       "\n",
       "            \n",
       "\n",
       "        \n",
       "    \n",
       "            var tile_layer_19ddb3540b9394fa50315403db6329d5 = L.tileLayer(\n",
       "                &quot;https://tile.openstreetmap.org/{z}/{x}/{y}.png&quot;,\n",
       "                {\n",
       "  &quot;minZoom&quot;: 0,\n",
       "  &quot;maxZoom&quot;: 19,\n",
       "  &quot;maxNativeZoom&quot;: 19,\n",
       "  &quot;noWrap&quot;: false,\n",
       "  &quot;attribution&quot;: &quot;\\u0026copy; \\u003ca href=\\&quot;https://www.openstreetmap.org/copyright\\&quot;\\u003eOpenStreetMap\\u003c/a\\u003e contributors&quot;,\n",
       "  &quot;subdomains&quot;: &quot;abc&quot;,\n",
       "  &quot;detectRetina&quot;: false,\n",
       "  &quot;tms&quot;: false,\n",
       "  &quot;opacity&quot;: 1,\n",
       "}\n",
       "\n",
       "            );\n",
       "        \n",
       "    \n",
       "            tile_layer_19ddb3540b9394fa50315403db6329d5.addTo(map_b49a43506685d428dcbd2cd6329c3c63);\n",
       "        \n",
       "    \n",
       "            var tile_layer_e050c632ae58ef447e9891dd8d00691c = L.tileLayer(\n",
       "                &quot;https://earthengine.googleapis.com/v1/projects/ee-python-michel/maps/ed0bcf33666d277ef155e1cd9f48be41-d38bc52c01295159167063a4b3336a72/tiles/{z}/{x}/{y}&quot;,\n",
       "                {\n",
       "  &quot;minZoom&quot;: 0,\n",
       "  &quot;maxZoom&quot;: 18,\n",
       "  &quot;maxNativeZoom&quot;: 18,\n",
       "  &quot;noWrap&quot;: false,\n",
       "  &quot;attribution&quot;: &quot;Mapbiomas \\u0026copy; \\u003ca href=\\&quot;https://earthengine.google.com/\\&quot;\\u003eGoogle Earth Engine\\u003c/a\\u003e&quot;,\n",
       "  &quot;subdomains&quot;: &quot;abc&quot;,\n",
       "  &quot;detectRetina&quot;: false,\n",
       "  &quot;tms&quot;: false,\n",
       "  &quot;opacity&quot;: 1,\n",
       "}\n",
       "\n",
       "            );\n",
       "        \n",
       "    \n",
       "            tile_layer_e050c632ae58ef447e9891dd8d00691c.addTo(map_b49a43506685d428dcbd2cd6329c3c63);\n",
       "        \n",
       "&lt;/script&gt;\n",
       "&lt;/html&gt;\" style=\"position:absolute;width:100%;height:100%;left:0;top:0;border:none !important;\" allowfullscreen webkitallowfullscreen mozallowfullscreen></iframe></div></div>"
      ],
      "text/plain": [
       "<folium.folium.Map at 0x23c38c80a50>"
      ]
     },
     "execution_count": 17,
     "metadata": {},
     "output_type": "execute_result"
    }
   ],
   "source": [
    "# Cria Mapa\n",
    "m = folium.Map()\n",
    "\n",
    "# \n",
    "lyr_mapbiomas = folium.TileLayer(\n",
    "    tiles=dict_id_map['tile_fetcher'].url_format,\n",
    "    attr='Mapbiomas &copy; <a href=\"https://earthengine.google.com/\">Google Earth Engine</a>',\n",
    "    name='MapBiomas',\n",
    "    overlay=True,\n",
    "    control=True,\n",
    ")\n",
    "\n",
    "m.add_child(lyr_mapbiomas)\n",
    "m"
   ]
  },
  {
   "cell_type": "code",
   "execution_count": null,
   "id": "a43d7387",
   "metadata": {},
   "outputs": [],
   "source": []
  }
 ],
 "metadata": {
  "kernelspec": {
   "display_name": ".venv",
   "language": "python",
   "name": "python3"
  },
  "language_info": {
   "codemirror_mode": {
    "name": "ipython",
    "version": 3
   },
   "file_extension": ".py",
   "mimetype": "text/x-python",
   "name": "python",
   "nbconvert_exporter": "python",
   "pygments_lexer": "ipython3",
   "version": "3.11.12"
  }
 },
 "nbformat": 4,
 "nbformat_minor": 5
}
