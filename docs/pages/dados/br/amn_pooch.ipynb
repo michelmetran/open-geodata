{
 "cells": [
  {
   "cell_type": "markdown",
   "id": "1385af74",
   "metadata": {},
   "source": [
    "<br>\n",
    "\n",
    "# AMN\n"
   ]
  },
  {
   "cell_type": "markdown",
   "id": "84b412a8",
   "metadata": {},
   "source": [
    "No que tange aos dados espaciais, a AMN mantem o portal [SIGMINE](https://geo.anm.gov.br/portal/apps/webappviewer/index.html?id=6a8f5ccc4b6a4c2bba79759aa952d908)\n"
   ]
  },
  {
   "cell_type": "markdown",
   "id": "97802465",
   "metadata": {},
   "source": [
    "<div class=\"admonition failure\">\n",
    "    <p class=\"admonition-title\">Failure</p>\n",
    "    <br>\n",
    "    <p>\n",
    "        Atualmente (jun/2025) as <i>urls</i> para baixar os dados da AMN estão em um domínio que não aceita o certificado SSL. Dessa forma, acessar os dados via pooch não está dando certo. Necessário usar a class.\n",
    "    </p>\n",
    "</div>\n"
   ]
  },
  {
   "cell_type": "code",
   "execution_count": null,
   "id": "e4def0b3",
   "metadata": {},
   "outputs": [],
   "source": [
    "import open_geodata as geo"
   ]
  },
  {
   "cell_type": "markdown",
   "id": "2b67623a",
   "metadata": {},
   "source": [
    "<br>\n",
    "\n",
    "---\n",
    "\n",
    "## Lista Layers\n"
   ]
  },
  {
   "cell_type": "code",
   "execution_count": null,
   "id": "a2dafce9",
   "metadata": {},
   "outputs": [],
   "source": [
    "db = geo.DB(db='amn')\n",
    "db.json"
   ]
  },
  {
   "cell_type": "code",
   "execution_count": null,
   "id": "629585c0",
   "metadata": {},
   "outputs": [],
   "source": [
    "url = db.json['amn.Áreas de servidão']['url']\n",
    "url"
   ]
  },
  {
   "cell_type": "code",
   "execution_count": null,
   "id": "495ce472",
   "metadata": {},
   "outputs": [],
   "source": [
    "geo.load_dataset(db='amn', name='amn.Áreas de servidão')"
   ]
  },
  {
   "cell_type": "code",
   "execution_count": null,
   "id": "f8e26ba8",
   "metadata": {},
   "outputs": [],
   "source": []
  }
 ],
 "metadata": {
  "kernelspec": {
   "display_name": ".venv",
   "language": "python",
   "name": "python3"
  },
  "language_info": {
   "codemirror_mode": {
    "name": "ipython",
    "version": 3
   },
   "file_extension": ".py",
   "mimetype": "text/x-python",
   "name": "python",
   "nbconvert_exporter": "python",
   "pygments_lexer": "ipython3",
   "version": "3.11.12"
  }
 },
 "nbformat": 4,
 "nbformat_minor": 5
}
