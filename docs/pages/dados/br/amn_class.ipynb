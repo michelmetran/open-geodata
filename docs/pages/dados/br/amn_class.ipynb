{
 "cells": [
  {
   "cell_type": "markdown",
   "id": "1385af74",
   "metadata": {},
   "source": [
    "<br>\n",
    "\n",
    "# AMN\n",
    "\n",
    "\n"
   ]
  },
  {
   "cell_type": "markdown",
   "id": "84b412a8",
   "metadata": {},
   "source": [
    "No que tange aos dados espaciais, a AMN mantem o portal [SIGMINE](https://geo.anm.gov.br/portal/apps/webappviewer/index.html?id=6a8f5ccc4b6a4c2bba79759aa952d908)\n",
    "\n"
   ]
  },
  {
   "cell_type": "code",
   "execution_count": 11,
   "id": "e4def0b3",
   "metadata": {},
   "outputs": [],
   "source": [
    "import tempfile\n",
    "from pathlib import Path\n",
    "\n",
    "import folium\n",
    "import geopandas as gpd\n",
    "from folium import plugins\n",
    "\n",
    "import open_geodata as geo"
   ]
  },
  {
   "cell_type": "markdown",
   "id": "2b67623a",
   "metadata": {},
   "source": [
    "<br>\n",
    "\n",
    "---\n",
    "\n",
    "## Lista Layers\n"
   ]
  },
  {
   "cell_type": "code",
   "execution_count": null,
   "id": "db6d605e",
   "metadata": {},
   "outputs": [],
   "source": [
    "# Instancia classe IBGE\n",
    "amn = geo.br.amn.ANM()\n",
    "\n",
    "# Obtem Malhas de 2018\n",
    "layers = amn.layers\n",
    "\n",
    "# Resultados\n",
    "layers.info()\n",
    "layers.head()"
   ]
  },
  {
   "cell_type": "markdown",
   "id": "ce8f8f99",
   "metadata": {},
   "source": [
    "<br>\n",
    "\n",
    "---\n",
    "\n",
    "## Obtem Dados\n"
   ]
  },
  {
   "cell_type": "code",
   "execution_count": null,
   "id": "f9daf5ea",
   "metadata": {},
   "outputs": [],
   "source": [
    "gdf = amn.get_layers(layer='Processos Minerários Ativos - SP')\n",
    "gdf.info()\n",
    "gdf.head()"
   ]
  },
  {
   "cell_type": "markdown",
   "id": "06ae9e45",
   "metadata": {},
   "source": [
    "<br>\n",
    "\n",
    "---\n",
    "\n",
    "## Filtra Dados\n"
   ]
  },
  {
   "cell_type": "code",
   "execution_count": null,
   "id": "06961667",
   "metadata": {},
   "outputs": [],
   "source": [
    "# Search\n",
    "word_search = 'Mineração Righi Ltda Me'\n",
    "word_search_outfilename = word_search.lower().replace(' ', '_')\n",
    "\n",
    "# Select\n",
    "gdf_interess = gdf.loc[gdf['NOME'].str.contains(word_search, case=False)]\n",
    "gdf_interess"
   ]
  },
  {
   "cell_type": "markdown",
   "id": "27cea2c0",
   "metadata": {},
   "source": [
    "<br>\n",
    "\n",
    "---\n",
    "\n",
    "## Folium\n"
   ]
  },
  {
   "cell_type": "code",
   "execution_count": null,
   "id": "3e56f1da",
   "metadata": {},
   "outputs": [],
   "source": [
    "# PopUp\n",
    "def popup_html(row):\n",
    "    # Data\n",
    "    # r01 = row['PROCESSO']\n",
    "    # r02 = row['NUMERO']\n",
    "    # r03 = row['ANO']\n",
    "    r04 = row['AREA_HA']\n",
    "    # r05 = row['ID']\n",
    "    r06 = row['FASE']\n",
    "    r07 = row['ULT_EVENTO']\n",
    "    r08 = row['NOME']\n",
    "    r09 = row['SUBS']\n",
    "    # r10 = row['USO']\n",
    "    # r11 = row['UF']\n",
    "    r12 = row['DSProcesso']\n",
    "    # r13 = row['geometry']\n",
    "\n",
    "    # Infos\n",
    "    return f\"\"\"\n",
    "    <div>\n",
    "    <h5>Processo {r12}</h5>\n",
    "    <br><b>Nome:</b> {r08}\n",
    "    <br><b>Substância:</b> {r09}\n",
    "    <br>--------------------\n",
    "    <br><b>Área (ha):</b> {r04}\n",
    "    <br><b>Fase:</b> {r06}\n",
    "    </div>\n",
    "    \"\"\""
   ]
  },
  {
   "cell_type": "markdown",
   "id": "f7345bd1",
   "metadata": {},
   "source": [
    "<br>\n",
    "\n",
    "---\n",
    "\n",
    "### Create Layer\n"
   ]
  },
  {
   "cell_type": "code",
   "execution_count": null,
   "id": "973c13e4",
   "metadata": {},
   "outputs": [],
   "source": [
    "def add_lyr_righi(geodataframe):\n",
    "    # Input\n",
    "\n",
    "    gdf = geodataframe.to_crs(epsg=4326)\n",
    "\n",
    "    # Popup\n",
    "    gdf['popup'] = gdf.apply(popup_html, axis=1)\n",
    "\n",
    "    # Layer\n",
    "    lyr = folium.GeoJson(\n",
    "        gdf,\n",
    "        name='Processos Minerários - Righi',\n",
    "        smooth_factor=1.0,\n",
    "        style_function=lambda x: {\n",
    "            'fillColor': '#DC143C',\n",
    "            'color': '#DC143C',\n",
    "            'weight': 1,\n",
    "            'fillOpacity': 0.3,\n",
    "        },\n",
    "        highlight_function=lambda x: {\n",
    "            'weight': 3,\n",
    "            'fillOpacity': 0.6,\n",
    "        },\n",
    "        popup=folium.GeoJsonPopup(\n",
    "            ['popup'],\n",
    "            parse_html=False,\n",
    "            max_width='400',\n",
    "            show=False,\n",
    "            labels=False,\n",
    "            sticky=True,\n",
    "        ),\n",
    "        marker=folium.Marker(\n",
    "            icon=folium.Icon(\n",
    "                color='lightgray',\n",
    "                icon_color='#FFFF00',\n",
    "                # icon='leaf',\n",
    "            ),\n",
    "        ),\n",
    "        tooltip=folium.GeoJsonTooltip(\n",
    "            fields=['NOME'],\n",
    "            aliases=['NOME'],\n",
    "            sticky=True,\n",
    "            opacity=0.9,\n",
    "            direction='right',\n",
    "        ),\n",
    "        embed=False,\n",
    "        zoom_on_click=False,\n",
    "        control=True,\n",
    "        show=True,\n",
    "    )\n",
    "    return lyr"
   ]
  },
  {
   "cell_type": "code",
   "execution_count": null,
   "id": "45887571",
   "metadata": {},
   "outputs": [],
   "source": [
    "def get_map(input_geojson):\n",
    "    # Input\n",
    "    # gdf = gpd.read_file(input_geojson)\n",
    "    gdf = input_geojson.to_crs(epsg=4326)\n",
    "    sw = gdf.bounds[['miny', 'minx']].min().values.tolist()\n",
    "    ne = gdf.bounds[['maxy', 'maxx']].max().values.tolist()\n",
    "    bounds = [sw, ne]\n",
    "\n",
    "    # Zoom\n",
    "    min_zoom = 6\n",
    "    max_zoom = 21\n",
    "    padding = 1\n",
    "\n",
    "    # Create Map\n",
    "    m = folium.Map(\n",
    "        min_zoom=min_zoom,\n",
    "        max_zoom=max_zoom,\n",
    "        max_bounds=True,\n",
    "        min_lat=bounds[0][0] * ((100 + padding) / 100),\n",
    "        min_lon=bounds[0][1] * ((100 + padding) / 100),\n",
    "        max_lat=bounds[1][0] * ((100 - padding) / 100),\n",
    "        max_lon=bounds[1][1] * ((100 - padding) / 100),\n",
    "        tiles=None,\n",
    "        # zoom_delta=0.1,\n",
    "        # zoom_start=10,\n",
    "    )\n",
    "\n",
    "    # Add Layers\n",
    "    m.add_child(geo.lyr.base.google_hybrid(min_zoom, max_zoom))\n",
    "    m.add_child(geo.lyr.base.google_satellite(min_zoom, max_zoom))\n",
    "    m.add_child(geo.lyr.base.google_terrain(min_zoom, max_zoom))\n",
    "    m.add_child(geo.lyr.base.google_streets(min_zoom, max_zoom))\n",
    "\n",
    "    # Monitoramento\n",
    "    m.add_child(add_lyr_righi(input_geojson))\n",
    "\n",
    "    # Plugins\n",
    "    m.fit_bounds(bounds)\n",
    "    plugins.Fullscreen(\n",
    "        position='topleft',\n",
    "        title='Clique para Maximizar',\n",
    "        title_cancel='Mininizar',\n",
    "    ).add_to(m)\n",
    "    folium.LayerControl(\n",
    "        position='topright',\n",
    "        collapsed=False,\n",
    "    ).add_to(m)\n",
    "    return m"
   ]
  },
  {
   "cell_type": "code",
   "execution_count": null,
   "id": "119febf4",
   "metadata": {},
   "outputs": [],
   "source": [
    "with tempfile.TemporaryDirectory() as temp_dir:\n",
    "    # Path\n",
    "    temp_dir = Path(temp_dir)\n",
    "\n",
    "    # Create Maps\n",
    "    m = get_map(input_geojson=gdf_interess)\n",
    "\n",
    "    # Save\n",
    "    m.save(temp_dir / f'map_{word_search_outfilename}.html')"
   ]
  },
  {
   "cell_type": "code",
   "execution_count": null,
   "id": "5e98a33a",
   "metadata": {},
   "outputs": [],
   "source": [
    "m"
   ]
  }
 ],
 "metadata": {
  "kernelspec": {
   "display_name": ".venv",
   "language": "python",
   "name": "python3"
  },
  "language_info": {
   "codemirror_mode": {
    "name": "ipython",
    "version": 3
   },
   "file_extension": ".py",
   "mimetype": "text/x-python",
   "name": "python",
   "nbconvert_exporter": "python",
   "pygments_lexer": "ipython3",
   "version": "3.11.12"
  }
 },
 "nbformat": 4,
 "nbformat_minor": 5
}
