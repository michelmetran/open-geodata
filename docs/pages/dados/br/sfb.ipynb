{
 "cells": [
  {
   "cell_type": "markdown",
   "id": "8d131de3",
   "metadata": {},
   "source": [
    "<br>\n",
    "\n",
    "# Serviço Florestal Brasileiro\n",
    "\n",
    "O SFB é um órgão vinculado ao Ministério do Meio Ambiente e Mudança do Clima (MMA), criado em 2006 com o objetivo principal de promover o uso econômico e sustentável das florestas públicas brasileiras. Suas atribuições são amplas e visam garantir a conservação dos recursos florestais enquanto fomentam o desenvolvimento sustentável.\n",
    "\n",
    "<br>\n",
    "\n",
    "### Sistema Nacional de Cadastro Ambiental Rural\n",
    "\n",
    "O **SICAR** é uma plataforma eletrônica que gerencia o Cadastro Ambiental Rural (CAR). O CAR, por sua vez, é um registro público eletrônico de âmbito nacional, obrigatório para todos os imóveis rurais, sejam eles propriedades ou posses. Sua finalidade é integrar as informações ambientais dos imóveis rurais, como áreas de floresta nativa, áreas de preservação permanente (APP), reserva legal (RL) e áreas de uso consolidado.\n",
    "\n",
    "Os principais objetivos do SICAR são:\n",
    "\n",
    "- Controle e Monitoramento: O SICAR permite o controle e monitoramento das áreas ambientais dos imóveis rurais, auxiliando na identificação de desmatamentos ilegais e no planejamento ambiental.\n",
    "- Planejamento Ambiental e Econômico: As informações do CAR, acessíveis via SICAR, subsidiam o planejamento ambiental e econômico do uso do solo, contribuindo para uma agricultura mais sustentável.\n",
    "- Regularização Ambiental: A inscrição no CAR é o primeiro passo para a regularização ambiental do imóvel rural. Por meio do SICAR, os proprietários podem aderir ao Programa de Regularização Ambiental (PRA) e, assim, regularizar passivos ambientais.\n",
    "- Base de Dados Pública: O SICAR disponibiliza informações de natureza pública sobre a regularização ambiental dos imóveis rurais, promovendo a transparência e subsidiando a fiscalização.\n",
    "\n",
    "[![SICAR](./../../../assets/br/sfb/sicar.jpg)](https://consultapublica.car.gov.br/publico/imoveis/index){target=\"_blank\"}\n",
    "\n",
    "<br>\n",
    "\n",
    "Com auxílio do pacote [SICAR](https://github.com/urbanogilson/SICAR), desenvolvido pelo [Gilson Urbano](https://github.com/urbanogilson) foi possível adicionar a funcionalidade de obtenção de dados do **Sistema Nacional de Cadastro Ambiental Rural (SICAR)**.\n",
    "\n",
    "O pacote obtem os dados da [Base de Dowloads](https://consultapublica.car.gov.br/publico/estados/downloads) e utiliza o [tesseract](https://github.com/tesseract-ocr/tesseract/) para passar pelo _recapcha_.\n",
    "\n",
    "<br>\n",
    "\n",
    "---\n",
    "\n",
    "<br>\n",
    "\n",
    "<div class=\"admonition info\">\n",
    "    <p class=\"admonition-title\">Informação</p>\n",
    "    <br>\n",
    "    <p>\n",
    "        Em 13.06.2025 observei que há a possibilidade de acessar o <a href=\"https://geoserver.car.gov.br/geoserver/\" target=_blank>GeoServer</a> do SICAR, facilitando muito a obtenção de dados.\n",
    "    </p>\n",
    "\n",
    "</div>\n"
   ]
  },
  {
   "cell_type": "code",
   "execution_count": null,
   "id": "647ef1b4",
   "metadata": {},
   "outputs": [],
   "source": [
    "import tempfile\n",
    "from pathlib import Path\n",
    "\n",
    "import geopandas as gpd\n",
    "\n",
    "import open_geodata as geo"
   ]
  },
  {
   "cell_type": "markdown",
   "id": "1f62e1e2",
   "metadata": {},
   "source": [
    "O pacote tem como dependência o Tesseract e é necessário instalar e apontar o caminho do executável na aplicação.\n",
    "\n",
    "<div class=\"admonition info\">\n",
    "    <p class=\"admonition-title\">Informação</p>\n",
    "    <br>\n",
    "    <p>\n",
    "        O <a href=\"https://github.com/tesseract-ocr/tesseract/\" target=_blank>Tesseract</a>   (Google Tesseract OCR) é uma ferramenta de reconhecimento óptico de caracteres (OCR) que permite extrair texto de imagens. Ele é muito usado para digitalizar documentos, ler textos de fotos ou PDFs escaneados, e automatizar tarefas que envolvem leitura de texto visual.\n",
    "    </p>\n",
    "\n",
    "</div>\n"
   ]
  },
  {
   "cell_type": "code",
   "execution_count": null,
   "id": "30d12bcd",
   "metadata": {},
   "outputs": [],
   "source": [
    "# Instancia classe IBGE\n",
    "sfb = geo.br.sicar.SICAR(\n",
    "    tesseract_path='C:\\\\Program Files\\\\Tesseract-OCR\\\\tesseract.exe'\n",
    ")"
   ]
  },
  {
   "cell_type": "markdown",
   "id": "413c3c07",
   "metadata": {},
   "source": [
    "<br>\n",
    "\n",
    "---\n",
    "\n",
    "## Propriedades\n"
   ]
  },
  {
   "cell_type": "code",
   "execution_count": null,
   "id": "f9117a75",
   "metadata": {},
   "outputs": [],
   "source": [
    "sfb.release_dates"
   ]
  },
  {
   "cell_type": "code",
   "execution_count": null,
   "id": "87b5e6c1",
   "metadata": {},
   "outputs": [],
   "source": [
    "sfb.list_layers"
   ]
  },
  {
   "cell_type": "code",
   "execution_count": null,
   "id": "d4841116",
   "metadata": {},
   "outputs": [],
   "source": [
    "sfb.list_states"
   ]
  },
  {
   "cell_type": "markdown",
   "id": "54b3da99",
   "metadata": {},
   "source": [
    "<br>\n",
    "\n",
    "---\n",
    "\n",
    "## _Download_\n"
   ]
  },
  {
   "cell_type": "code",
   "execution_count": null,
   "id": "5daf99c9",
   "metadata": {},
   "outputs": [],
   "source": [
    "# Salva\n",
    "with tempfile.TemporaryDirectory() as temp_dir:\n",
    "    # Cria o caminho temporário em formato Path\n",
    "    temp_path = Path(temp_dir)\n",
    "\n",
    "    # Donwload\n",
    "    sfb.download_data(\n",
    "        sigla_estado=geo.br.sicar.State.AC,\n",
    "        layer=geo.br.sicar.Polygon.AREA_PROPERTY,\n",
    "        output_path=temp_path,\n",
    "    )\n",
    "\n",
    "    # Lista arquivos baixados\n",
    "    list_files = list(temp_path.glob('*'))\n",
    "    print(list_files)\n",
    "\n",
    "    #\n",
    "    # Lê o shapefile diretamente do zip\n",
    "    gdf = gpd.read_file(list_files[0])"
   ]
  },
  {
   "cell_type": "markdown",
   "id": "acfeab77",
   "metadata": {},
   "source": [
    "<brt>\n"
   ]
  },
  {
   "cell_type": "code",
   "execution_count": null,
   "id": "6f1d2144",
   "metadata": {},
   "outputs": [],
   "source": [
    "gdf.explore()"
   ]
  },
  {
   "cell_type": "code",
   "execution_count": null,
   "id": "57ba736c",
   "metadata": {},
   "outputs": [],
   "source": []
  }
 ],
 "metadata": {
  "kernelspec": {
   "display_name": ".venv",
   "language": "python",
   "name": "python3"
  },
  "language_info": {
   "codemirror_mode": {
    "name": "ipython",
    "version": 3
   },
   "file_extension": ".py",
   "mimetype": "text/x-python",
   "name": "python",
   "nbconvert_exporter": "python",
   "pygments_lexer": "ipython3",
   "version": "3.11.12"
  }
 },
 "nbformat": 4,
 "nbformat_minor": 5
}
