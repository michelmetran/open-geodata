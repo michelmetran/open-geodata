{
 "cells": [
  {
   "cell_type": "markdown",
   "metadata": {},
   "source": [
    "<br>\n",
    "\n",
    "# Introdução"
   ]
  },
  {
   "cell_type": "code",
   "execution_count": 14,
   "metadata": {},
   "outputs": [
    {
     "data": {
      "text/plain": [
       "'/home/michel/Codes/open_geodata/open-geodata/test'"
      ]
     },
     "execution_count": 14,
     "metadata": {},
     "output_type": "execute_result"
    }
   ],
   "source": [
    "# Onde Estou?\n",
    "import os\n",
    "os.getcwd()"
   ]
  },
  {
   "cell_type": "code",
   "execution_count": 3,
   "metadata": {},
   "outputs": [
    {
     "name": "stdout",
     "output_type": "stream",
     "text": [
      "Requirement already satisfied: build in /home/michel/Documents/Conda/envs/pablocarreira-py39/lib/python3.9/site-packages (0.7.0)\n",
      "Requirement already satisfied: packaging>=19.0 in /home/michel/Documents/Conda/envs/pablocarreira-py39/lib/python3.9/site-packages (from build) (21.3)\n",
      "Requirement already satisfied: pep517>=0.9.1 in /home/michel/Documents/Conda/envs/pablocarreira-py39/lib/python3.9/site-packages (from build) (0.12.0)\n",
      "Requirement already satisfied: tomli>=1.0.0 in /home/michel/Documents/Conda/envs/pablocarreira-py39/lib/python3.9/site-packages (from build) (2.0.1)\n",
      "Requirement already satisfied: pyparsing!=3.0.5,>=2.0.2 in /home/michel/Documents/Conda/envs/pablocarreira-py39/lib/python3.9/site-packages (from packaging>=19.0->build) (3.0.7)\n"
     ]
    }
   ],
   "source": [
    "# Instala o build\n",
    "!python3 -m pip install --upgrade build"
   ]
  },
  {
   "cell_type": "code",
   "execution_count": 6,
   "metadata": {},
   "outputs": [
    {
     "name": "stdout",
     "output_type": "stream",
     "text": [
      "\u001b[1m* Creating venv isolated environment...\u001b[0m\n",
      "\u001b[1m* Installing packages in isolated environment... (setuptools >= 40.8.0, wheel)\u001b[0m\n",
      "\u001b[1m* Getting dependencies for sdist...\u001b[0m\n",
      "running egg_info\n",
      "writing src/open_geodata.egg-info/PKG-INFO\n",
      "writing dependency_links to src/open_geodata.egg-info/dependency_links.txt\n",
      "writing requirements to src/open_geodata.egg-info/requires.txt\n",
      "writing top-level names to src/open_geodata.egg-info/top_level.txt\n",
      "reading manifest file 'src/open_geodata.egg-info/SOURCES.txt'\n",
      "reading manifest template 'MANIFEST.in'\n",
      "warning: no previously-included files matching '__pycache__' found anywhere in distribution\n",
      "warning: no previously-included files matching '*.ipynb_checkpoints/' found anywhere in distribution\n",
      "adding license file 'LICENSE'\n",
      "writing manifest file 'src/open_geodata.egg-info/SOURCES.txt'\n",
      "\u001b[1m* Building sdist...\u001b[0m\n",
      "running sdist\n",
      "running egg_info\n",
      "writing src/open_geodata.egg-info/PKG-INFO\n",
      "writing dependency_links to src/open_geodata.egg-info/dependency_links.txt\n",
      "writing requirements to src/open_geodata.egg-info/requires.txt\n",
      "writing top-level names to src/open_geodata.egg-info/top_level.txt\n",
      "reading manifest file 'src/open_geodata.egg-info/SOURCES.txt'\n",
      "reading manifest template 'MANIFEST.in'\n",
      "warning: no previously-included files matching '__pycache__' found anywhere in distribution\n",
      "warning: no previously-included files matching '*.ipynb_checkpoints/' found anywhere in distribution\n",
      "adding license file 'LICENSE'\n",
      "writing manifest file 'src/open_geodata.egg-info/SOURCES.txt'\n",
      "running check\n",
      "creating open_geodata-0.0.14\n",
      "creating open_geodata-0.0.14/src\n",
      "creating open_geodata-0.0.14/src/open_geodata\n",
      "creating open_geodata-0.0.14/src/open_geodata.egg-info\n",
      "creating open_geodata-0.0.14/src/open_geodata/data\n",
      "copying files to open_geodata-0.0.14...\n",
      "copying LICENSE -> open_geodata-0.0.14\n",
      "copying MANIFEST.in -> open_geodata-0.0.14\n",
      "copying README.md -> open_geodata-0.0.14\n",
      "copying requirements.txt -> open_geodata-0.0.14\n",
      "copying setup.py -> open_geodata-0.0.14\n",
      "copying src/open_geodata/__init__.py -> open_geodata-0.0.14/src/open_geodata\n",
      "copying src/open_geodata/converts.py -> open_geodata-0.0.14/src/open_geodata\n",
      "copying src/open_geodata/functions.py -> open_geodata-0.0.14/src/open_geodata\n",
      "copying src/open_geodata/geo.py -> open_geodata-0.0.14/src/open_geodata\n",
      "copying src/open_geodata/layers.py -> open_geodata-0.0.14/src/open_geodata\n",
      "copying src/open_geodata.egg-info/PKG-INFO -> open_geodata-0.0.14/src/open_geodata.egg-info\n",
      "copying src/open_geodata.egg-info/SOURCES.txt -> open_geodata-0.0.14/src/open_geodata.egg-info\n",
      "copying src/open_geodata.egg-info/dependency_links.txt -> open_geodata-0.0.14/src/open_geodata.egg-info\n",
      "copying src/open_geodata.egg-info/requires.txt -> open_geodata-0.0.14/src/open_geodata.egg-info\n",
      "copying src/open_geodata.egg-info/top_level.txt -> open_geodata-0.0.14/src/open_geodata.egg-info\n",
      "copying src/open_geodata/data/sp_250k_wgs84.geojson -> open_geodata-0.0.14/src/open_geodata/data\n",
      "Writing open_geodata-0.0.14/setup.cfg\n",
      "Creating tar archive\n",
      "removing 'open_geodata-0.0.14' (and everything under it)\n",
      "Traceback (most recent call last):\n",
      "  File \"/home/michel/Documents/Conda/envs/pablocarreira-py39/lib/python3.9/site-packages/pep517/in_process/_in_process.py\", line 363, in <module>\n",
      "    main()\n",
      "  File \"/home/michel/Documents/Conda/envs/pablocarreira-py39/lib/python3.9/site-packages/pep517/in_process/_in_process.py\", line 345, in main\n",
      "    json_out['return_val'] = hook(**hook_input['kwargs'])\n",
      "  File \"/home/michel/Documents/Conda/envs/pablocarreira-py39/lib/python3.9/site-packages/pep517/in_process/_in_process.py\", line 314, in build_sdist\n",
      "    return backend.build_sdist(sdist_directory, config_settings)\n",
      "  File \"/tmp/build-env-igyb4atg/lib/python3.9/site-packages/setuptools/build_meta.py\", line 248, in build_sdist\n",
      "    return self._build_with_temp_dir(['sdist', '--formats', 'gztar'],\n",
      "  File \"/tmp/build-env-igyb4atg/lib/python3.9/site-packages/setuptools/build_meta.py\", line 237, in _build_with_temp_dir\n",
      "    os.rename(os.path.join(tmp_dist_dir, result_basename), result_path)\n",
      "  File \"/home/michel/Documents/Conda/envs/pablocarreira-py39/lib/python3.9/tempfile.py\", line 830, in __exit__\n",
      "    self.cleanup()\n",
      "  File \"/home/michel/Documents/Conda/envs/pablocarreira-py39/lib/python3.9/tempfile.py\", line 834, in cleanup\n",
      "    self._rmtree(self.name)\n",
      "  File \"/home/michel/Documents/Conda/envs/pablocarreira-py39/lib/python3.9/tempfile.py\", line 816, in _rmtree\n",
      "    _shutil.rmtree(name, onerror=onerror)\n",
      "  File \"/home/michel/Documents/Conda/envs/pablocarreira-py39/lib/python3.9/shutil.py\", line 731, in rmtree\n",
      "    onerror(os.rmdir, path, sys.exc_info())\n",
      "  File \"/home/michel/Documents/Conda/envs/pablocarreira-py39/lib/python3.9/shutil.py\", line 729, in rmtree\n",
      "    os.rmdir(path)\n",
      "OSError: [Errno 26] Text file busy: '/home/michel/Codes/open_geodata/open-geodata/dist/tmpifed629i'\n",
      "\n",
      "\u001b[91mERROR\u001b[0m Backend subproccess exited when trying to invoke build_sdist\n",
      "\u001b[0m"
     ]
    }
   ],
   "source": [
    "# Builda o projeto\n",
    "!python3 -m build .."
   ]
  },
  {
   "cell_type": "markdown",
   "metadata": {
    "pycharm": {
     "name": "#%% md\n"
    }
   },
   "source": [
    "<br>\n",
    "\n",
    "# Version"
   ]
  },
  {
   "cell_type": "code",
   "execution_count": 17,
   "metadata": {
    "collapsed": false,
    "jupyter": {
     "outputs_hidden": false
    },
    "pycharm": {
     "name": "#%%\n"
    }
   },
   "outputs": [
    {
     "name": "stdout",
     "output_type": "stream",
     "text": [
      "Usage: python -m incremental.update [OPTIONS] PACKAGE\n",
      "\n",
      "Options:\n",
      "  --path TEXT\n",
      "  --newversion TEXT\n",
      "  --patch\n",
      "  --rc\n",
      "  --post\n",
      "  --dev\n",
      "  --create\n",
      "  --help             Show this message and exit.\n"
     ]
    }
   ],
   "source": [
    "#!pip3 install incremental[scripts] --upgrade\n",
    "!python -m incremental.update --help"
   ]
  },
  {
   "cell_type": "code",
   "execution_count": 34,
   "metadata": {
    "collapsed": false,
    "jupyter": {
     "outputs_hidden": false
    },
    "pycharm": {
     "name": "#%%\n"
    }
   },
   "outputs": [
    {
     "name": "stdout",
     "output_type": "stream",
     "text": [
      "Updating codebase to 22.3.6\n",
      "Updating /home/michel/Codes/open_geodata/open-geodata/src/open_geodata/_version.py\n"
     ]
    }
   ],
   "source": [
    "# Cria Version File\n",
    "#!python -m incremental.update open_geodata --create --path ../src/open_geodata"
   ]
  },
  {
   "cell_type": "code",
   "execution_count": 37,
   "metadata": {
    "collapsed": false,
    "jupyter": {
     "outputs_hidden": false
    },
    "pycharm": {
     "name": "#%%\n"
    }
   },
   "outputs": [
    {
     "name": "stdout",
     "output_type": "stream",
     "text": [
      "Updating codebase to 22.3.10\n",
      "Updating /home/michel/Codes/open_geodata/open-geodata/src/open_geodata/_version.py\n"
     ]
    }
   ],
   "source": [
    "# Atualiza Version File\n",
    "!python -m incremental.update open_geodata --patch --path ../src/open_geodata"
   ]
  },
  {
   "cell_type": "markdown",
   "metadata": {
    "pycharm": {
     "name": "#%% md\n"
    }
   },
   "source": [
    "<br>\n",
    "\n",
    "# PyPi"
   ]
  },
  {
   "cell_type": "code",
   "execution_count": 7,
   "metadata": {
    "pycharm": {
     "name": "#%%\n"
    }
   },
   "outputs": [
    {
     "name": "stdout",
     "output_type": "stream",
     "text": [
      "Requirement already satisfied: open-geodata in /home/michel/Documents/Conda/envs/pablocarreira-py39/lib/python3.9/site-packages (22.3.46)\n",
      "Requirement already satisfied: seaborn>=0.10 in /home/michel/Documents/Conda/envs/pablocarreira-py39/lib/python3.9/site-packages (from open-geodata) (0.11.2)\n",
      "Requirement already satisfied: geopandas>=0.10.2 in /home/michel/Documents/Conda/envs/pablocarreira-py39/lib/python3.9/site-packages (from open-geodata) (0.10.2)\n",
      "Requirement already satisfied: setuptools>=58.2.0 in /home/michel/Documents/Conda/envs/pablocarreira-py39/lib/python3.9/site-packages (from open-geodata) (59.8.0)\n",
      "Requirement already satisfied: py7zr>=0.18.1 in /home/michel/Documents/Conda/envs/pablocarreira-py39/lib/python3.9/site-packages (from open-geodata) (0.18.1)\n",
      "Requirement already satisfied: incremental~=21.3.0 in /home/michel/Documents/Conda/envs/pablocarreira-py39/lib/python3.9/site-packages (from open-geodata) (21.3.0)\n",
      "Requirement already satisfied: pandas>=0.10 in /home/michel/Documents/Conda/envs/pablocarreira-py39/lib/python3.9/site-packages (from open-geodata) (1.4.1)\n",
      "Requirement already satisfied: folium>=0.11.0 in /home/michel/Documents/Conda/envs/pablocarreira-py39/lib/python3.9/site-packages (from open-geodata) (0.12.1.post1)\n",
      "Requirement already satisfied: branca>=0.3.0 in /home/michel/Documents/Conda/envs/pablocarreira-py39/lib/python3.9/site-packages (from folium>=0.11.0->open-geodata) (0.4.2)\n",
      "Requirement already satisfied: numpy in /home/michel/Documents/Conda/envs/pablocarreira-py39/lib/python3.9/site-packages (from folium>=0.11.0->open-geodata) (1.22.3)\n",
      "Requirement already satisfied: jinja2>=2.9 in /home/michel/Documents/Conda/envs/pablocarreira-py39/lib/python3.9/site-packages (from folium>=0.11.0->open-geodata) (3.0.3)\n",
      "Requirement already satisfied: requests in /home/michel/Documents/Conda/envs/pablocarreira-py39/lib/python3.9/site-packages (from folium>=0.11.0->open-geodata) (2.27.1)\n",
      "Requirement already satisfied: pyproj>=2.2.0 in /home/michel/Documents/Conda/envs/pablocarreira-py39/lib/python3.9/site-packages (from geopandas>=0.10.2->open-geodata) (3.3.0)\n",
      "Requirement already satisfied: fiona>=1.8 in /home/michel/Documents/Conda/envs/pablocarreira-py39/lib/python3.9/site-packages (from geopandas>=0.10.2->open-geodata) (1.8.21)\n",
      "Requirement already satisfied: shapely>=1.6 in /home/michel/Documents/Conda/envs/pablocarreira-py39/lib/python3.9/site-packages (from geopandas>=0.10.2->open-geodata) (1.8.0)\n",
      "Requirement already satisfied: python-dateutil>=2.8.1 in /home/michel/Documents/Conda/envs/pablocarreira-py39/lib/python3.9/site-packages (from pandas>=0.10->open-geodata) (2.8.2)\n",
      "Requirement already satisfied: pytz>=2020.1 in /home/michel/Documents/Conda/envs/pablocarreira-py39/lib/python3.9/site-packages (from pandas>=0.10->open-geodata) (2021.3)\n",
      "Requirement already satisfied: zipfile-deflate64>=0.2.0 in /home/michel/Documents/Conda/envs/pablocarreira-py39/lib/python3.9/site-packages (from py7zr>=0.18.1->open-geodata) (0.2.0)\n",
      "Requirement already satisfied: multivolumefile>=0.2.3 in /home/michel/Documents/Conda/envs/pablocarreira-py39/lib/python3.9/site-packages (from py7zr>=0.18.1->open-geodata) (0.2.3)\n",
      "Requirement already satisfied: brotli>=1.0.9 in /home/michel/Documents/Conda/envs/pablocarreira-py39/lib/python3.9/site-packages (from py7zr>=0.18.1->open-geodata) (1.0.9)\n",
      "Requirement already satisfied: pybcj>=0.5.0 in /home/michel/Documents/Conda/envs/pablocarreira-py39/lib/python3.9/site-packages (from py7zr>=0.18.1->open-geodata) (0.5.0)\n",
      "Requirement already satisfied: pyppmd<0.18.0,>=0.17.0 in /home/michel/Documents/Conda/envs/pablocarreira-py39/lib/python3.9/site-packages (from py7zr>=0.18.1->open-geodata) (0.17.4)\n",
      "Requirement already satisfied: pycryptodomex>=3.6.6 in /home/michel/Documents/Conda/envs/pablocarreira-py39/lib/python3.9/site-packages (from py7zr>=0.18.1->open-geodata) (3.14.1)\n",
      "Requirement already satisfied: texttable in /home/michel/Documents/Conda/envs/pablocarreira-py39/lib/python3.9/site-packages (from py7zr>=0.18.1->open-geodata) (1.6.4)\n",
      "Requirement already satisfied: pyzstd>=0.14.4 in /home/michel/Documents/Conda/envs/pablocarreira-py39/lib/python3.9/site-packages (from py7zr>=0.18.1->open-geodata) (0.15.2)\n",
      "Requirement already satisfied: matplotlib>=2.2 in /home/michel/Documents/Conda/envs/pablocarreira-py39/lib/python3.9/site-packages (from seaborn>=0.10->open-geodata) (3.5.1)\n",
      "Requirement already satisfied: scipy>=1.0 in /home/michel/Documents/Conda/envs/pablocarreira-py39/lib/python3.9/site-packages (from seaborn>=0.10->open-geodata) (1.8.0)\n",
      "Requirement already satisfied: click-plugins>=1.0 in /home/michel/Documents/Conda/envs/pablocarreira-py39/lib/python3.9/site-packages (from fiona>=1.8->geopandas>=0.10.2->open-geodata) (1.1.1)\n",
      "Requirement already satisfied: certifi in /home/michel/Documents/Conda/envs/pablocarreira-py39/lib/python3.9/site-packages (from fiona>=1.8->geopandas>=0.10.2->open-geodata) (2021.10.8)\n",
      "Requirement already satisfied: click>=4.0 in /home/michel/Documents/Conda/envs/pablocarreira-py39/lib/python3.9/site-packages (from fiona>=1.8->geopandas>=0.10.2->open-geodata) (8.0.4)\n",
      "Requirement already satisfied: attrs>=17 in /home/michel/Documents/Conda/envs/pablocarreira-py39/lib/python3.9/site-packages (from fiona>=1.8->geopandas>=0.10.2->open-geodata) (21.4.0)\n",
      "Requirement already satisfied: munch in /home/michel/Documents/Conda/envs/pablocarreira-py39/lib/python3.9/site-packages (from fiona>=1.8->geopandas>=0.10.2->open-geodata) (2.5.0)\n",
      "Requirement already satisfied: cligj>=0.5 in /home/michel/Documents/Conda/envs/pablocarreira-py39/lib/python3.9/site-packages (from fiona>=1.8->geopandas>=0.10.2->open-geodata) (0.7.2)\n",
      "Requirement already satisfied: six>=1.7 in /home/michel/Documents/Conda/envs/pablocarreira-py39/lib/python3.9/site-packages (from fiona>=1.8->geopandas>=0.10.2->open-geodata) (1.16.0)\n",
      "Requirement already satisfied: MarkupSafe>=2.0 in /home/michel/Documents/Conda/envs/pablocarreira-py39/lib/python3.9/site-packages (from jinja2>=2.9->folium>=0.11.0->open-geodata) (2.1.1)\n",
      "Requirement already satisfied: packaging>=20.0 in /home/michel/Documents/Conda/envs/pablocarreira-py39/lib/python3.9/site-packages (from matplotlib>=2.2->seaborn>=0.10->open-geodata) (21.3)\n",
      "Requirement already satisfied: kiwisolver>=1.0.1 in /home/michel/Documents/Conda/envs/pablocarreira-py39/lib/python3.9/site-packages (from matplotlib>=2.2->seaborn>=0.10->open-geodata) (1.4.0)\n",
      "Requirement already satisfied: cycler>=0.10 in /home/michel/Documents/Conda/envs/pablocarreira-py39/lib/python3.9/site-packages (from matplotlib>=2.2->seaborn>=0.10->open-geodata) (0.11.0)\n",
      "Requirement already satisfied: pillow>=6.2.0 in /home/michel/Documents/Conda/envs/pablocarreira-py39/lib/python3.9/site-packages (from matplotlib>=2.2->seaborn>=0.10->open-geodata) (9.0.1)\n",
      "Requirement already satisfied: pyparsing>=2.2.1 in /home/michel/Documents/Conda/envs/pablocarreira-py39/lib/python3.9/site-packages (from matplotlib>=2.2->seaborn>=0.10->open-geodata) (3.0.7)\n",
      "Requirement already satisfied: fonttools>=4.22.0 in /home/michel/Documents/Conda/envs/pablocarreira-py39/lib/python3.9/site-packages (from matplotlib>=2.2->seaborn>=0.10->open-geodata) (4.30.0)\n",
      "Requirement already satisfied: idna<4,>=2.5 in /home/michel/Documents/Conda/envs/pablocarreira-py39/lib/python3.9/site-packages (from requests->folium>=0.11.0->open-geodata) (3.3)\n",
      "Requirement already satisfied: charset-normalizer~=2.0.0 in /home/michel/Documents/Conda/envs/pablocarreira-py39/lib/python3.9/site-packages (from requests->folium>=0.11.0->open-geodata) (2.0.12)\n",
      "Requirement already satisfied: urllib3<1.27,>=1.21.1 in /home/michel/Documents/Conda/envs/pablocarreira-py39/lib/python3.9/site-packages (from requests->folium>=0.11.0->open-geodata) (1.26.8)\n"
     ]
    }
   ],
   "source": [
    "!pip3 install open-geodata --upgrade"
   ]
  },
  {
   "cell_type": "code",
   "execution_count": 3,
   "metadata": {
    "pycharm": {
     "name": "#%%\n"
    }
   },
   "outputs": [],
   "source": [
    "from open_geodata import geo"
   ]
  },
  {
   "cell_type": "code",
   "execution_count": 5,
   "metadata": {
    "pycharm": {
     "name": "#%%\n"
    }
   },
   "outputs": [
    {
     "name": "stdout",
     "output_type": "stream",
     "text": [
      "/home/michel/Documents/Conda/envs/pablocarreira-py39/lib/python3.9/site-packages/open_geodata/data/geo/sp/sp_250k_wgs84.7z\n",
      "7z\n"
     ]
    },
    {
     "data": {
      "text/html": [
       "<div>\n",
       "<style scoped>\n",
       "    .dataframe tbody tr th:only-of-type {\n",
       "        vertical-align: middle;\n",
       "    }\n",
       "\n",
       "    .dataframe tbody tr th {\n",
       "        vertical-align: top;\n",
       "    }\n",
       "\n",
       "    .dataframe thead th {\n",
       "        text-align: right;\n",
       "    }\n",
       "</style>\n",
       "<table border=\"1\" class=\"dataframe\">\n",
       "  <thead>\n",
       "    <tr style=\"text-align: right;\">\n",
       "      <th></th>\n",
       "      <th>id_municipio</th>\n",
       "      <th>municipio_nome</th>\n",
       "      <th>geometry</th>\n",
       "    </tr>\n",
       "  </thead>\n",
       "  <tbody>\n",
       "    <tr>\n",
       "      <th>0</th>\n",
       "      <td>3500105</td>\n",
       "      <td>Adamantina</td>\n",
       "      <td>POLYGON ((-51.05425 -21.40465, -51.05300 -21.4...</td>\n",
       "    </tr>\n",
       "    <tr>\n",
       "      <th>1</th>\n",
       "      <td>3500204</td>\n",
       "      <td>Adolfo</td>\n",
       "      <td>POLYGON ((-49.65795 -21.20333, -49.65645 -21.2...</td>\n",
       "    </tr>\n",
       "    <tr>\n",
       "      <th>2</th>\n",
       "      <td>3500303</td>\n",
       "      <td>Aguaí</td>\n",
       "      <td>POLYGON ((-46.97640 -21.96818, -46.97599 -21.9...</td>\n",
       "    </tr>\n",
       "    <tr>\n",
       "      <th>3</th>\n",
       "      <td>3500402</td>\n",
       "      <td>Águas da Prata</td>\n",
       "      <td>POLYGON ((-46.73501 -21.81891, -46.73431 -21.8...</td>\n",
       "    </tr>\n",
       "    <tr>\n",
       "      <th>4</th>\n",
       "      <td>3500501</td>\n",
       "      <td>Águas de Lindóia</td>\n",
       "      <td>POLYGON ((-46.60614 -22.44173, -46.60347 -22.4...</td>\n",
       "    </tr>\n",
       "    <tr>\n",
       "      <th>...</th>\n",
       "      <td>...</td>\n",
       "      <td>...</td>\n",
       "      <td>...</td>\n",
       "    </tr>\n",
       "    <tr>\n",
       "      <th>640</th>\n",
       "      <td>3556909</td>\n",
       "      <td>Vista Alegre do Alto</td>\n",
       "      <td>POLYGON ((-48.63824 -21.13941, -48.63688 -21.1...</td>\n",
       "    </tr>\n",
       "    <tr>\n",
       "      <th>641</th>\n",
       "      <td>3556958</td>\n",
       "      <td>Vitória Brasil</td>\n",
       "      <td>POLYGON ((-50.46615 -20.15770, -50.46478 -20.1...</td>\n",
       "    </tr>\n",
       "    <tr>\n",
       "      <th>642</th>\n",
       "      <td>3557006</td>\n",
       "      <td>Votorantim</td>\n",
       "      <td>POLYGON ((-47.37299 -23.52200, -47.37227 -23.5...</td>\n",
       "    </tr>\n",
       "    <tr>\n",
       "      <th>643</th>\n",
       "      <td>3557105</td>\n",
       "      <td>Votuporanga</td>\n",
       "      <td>POLYGON ((-50.02121 -20.33394, -50.02084 -20.3...</td>\n",
       "    </tr>\n",
       "    <tr>\n",
       "      <th>644</th>\n",
       "      <td>3557154</td>\n",
       "      <td>Zacarias</td>\n",
       "      <td>POLYGON ((-49.99275 -21.03884, -49.99214 -21.0...</td>\n",
       "    </tr>\n",
       "  </tbody>\n",
       "</table>\n",
       "<p>645 rows × 3 columns</p>\n",
       "</div>"
      ],
      "text/plain": [
       "     id_municipio        municipio_nome  \\\n",
       "0         3500105            Adamantina   \n",
       "1         3500204                Adolfo   \n",
       "2         3500303                 Aguaí   \n",
       "3         3500402        Águas da Prata   \n",
       "4         3500501      Águas de Lindóia   \n",
       "..            ...                   ...   \n",
       "640       3556909  Vista Alegre do Alto   \n",
       "641       3556958        Vitória Brasil   \n",
       "642       3557006            Votorantim   \n",
       "643       3557105           Votuporanga   \n",
       "644       3557154              Zacarias   \n",
       "\n",
       "                                              geometry  \n",
       "0    POLYGON ((-51.05425 -21.40465, -51.05300 -21.4...  \n",
       "1    POLYGON ((-49.65795 -21.20333, -49.65645 -21.2...  \n",
       "2    POLYGON ((-46.97640 -21.96818, -46.97599 -21.9...  \n",
       "3    POLYGON ((-46.73501 -21.81891, -46.73431 -21.8...  \n",
       "4    POLYGON ((-46.60614 -22.44173, -46.60347 -22.4...  \n",
       "..                                                 ...  \n",
       "640  POLYGON ((-48.63824 -21.13941, -48.63688 -21.1...  \n",
       "641  POLYGON ((-50.46615 -20.15770, -50.46478 -20.1...  \n",
       "642  POLYGON ((-47.37299 -23.52200, -47.37227 -23.5...  \n",
       "643  POLYGON ((-50.02121 -20.33394, -50.02084 -20.3...  \n",
       "644  POLYGON ((-49.99275 -21.03884, -49.99214 -21.0...  \n",
       "\n",
       "[645 rows x 3 columns]"
      ]
     },
     "execution_count": 5,
     "metadata": {},
     "output_type": "execute_result"
    }
   ],
   "source": [
    "geo.load_dataset('sp_250k_wgs84')"
   ]
  },
  {
   "cell_type": "code",
   "execution_count": 6,
   "metadata": {},
   "outputs": [
    {
     "name": "stdout",
     "output_type": "stream",
     "text": [
      "/home/michel/Documents/Conda/envs/pablocarreira-py39/lib/python3.9/site-packages/open_geodata/data/geo/sp_piracicaba/divisa_urbanorural.geojson\n",
      "geojson\n",
      "Cheguei aqui!\n"
     ]
    },
    {
     "ename": "DriverError",
     "evalue": "'/home/michel/Documents/Conda/envs/pablocarreira-py39/lib/python3.9/site-packages/open_geodata/data/geo/sp_piracicaba/divisa_urbanorural.geojson' not recognized as a supported file format.",
     "output_type": "error",
     "traceback": [
      "\u001b[0;31m---------------------------------------------------------------------------\u001b[0m",
      "\u001b[0;31mCPLE_OpenFailedError\u001b[0m                      Traceback (most recent call last)",
      "File \u001b[0;32mfiona/_shim.pyx:83\u001b[0m, in \u001b[0;36mfiona._shim.gdal_open_vector\u001b[0;34m()\u001b[0m\n",
      "File \u001b[0;32mfiona/_err.pyx:291\u001b[0m, in \u001b[0;36mfiona._err.exc_wrap_pointer\u001b[0;34m()\u001b[0m\n",
      "\u001b[0;31mCPLE_OpenFailedError\u001b[0m: '/home/michel/Documents/Conda/envs/pablocarreira-py39/lib/python3.9/site-packages/open_geodata/data/geo/sp_piracicaba/divisa_urbanorural.geojson' not recognized as a supported file format.",
      "\nDuring handling of the above exception, another exception occurred:\n",
      "\u001b[0;31mDriverError\u001b[0m                               Traceback (most recent call last)",
      "Input \u001b[0;32mIn [6]\u001b[0m, in \u001b[0;36m<cell line: 1>\u001b[0;34m()\u001b[0m\n\u001b[0;32m----> 1\u001b[0m \u001b[43mgeo\u001b[49m\u001b[38;5;241;43m.\u001b[39;49m\u001b[43mload_dataset\u001b[49m\u001b[43m(\u001b[49m\u001b[38;5;124;43m'\u001b[39;49m\u001b[38;5;124;43mdivisa_urbanorural\u001b[39;49m\u001b[38;5;124;43m'\u001b[39;49m\u001b[43m)\u001b[49m\n",
      "File \u001b[0;32m~/Documents/Conda/envs/pablocarreira-py39/lib/python3.9/site-packages/open_geodata/geo.py:69\u001b[0m, in \u001b[0;36mload_dataset\u001b[0;34m(name)\u001b[0m\n\u001b[1;32m     67\u001b[0m \u001b[38;5;28;01mif\u001b[39;00m extension \u001b[38;5;241m==\u001b[39m \u001b[38;5;124m'\u001b[39m\u001b[38;5;124mgeojson\u001b[39m\u001b[38;5;124m'\u001b[39m:\n\u001b[1;32m     68\u001b[0m     \u001b[38;5;28mprint\u001b[39m(\u001b[38;5;124m'\u001b[39m\u001b[38;5;124mCheguei aqui!\u001b[39m\u001b[38;5;124m'\u001b[39m)\n\u001b[0;32m---> 69\u001b[0m     gdf \u001b[38;5;241m=\u001b[39m \u001b[43mgpd\u001b[49m\u001b[38;5;241;43m.\u001b[39;49m\u001b[43mread_file\u001b[49m\u001b[43m(\u001b[49m\u001b[43mselect_file\u001b[49m\u001b[43m)\u001b[49m\n\u001b[1;32m     71\u001b[0m \u001b[38;5;28;01mreturn\u001b[39;00m gdf\n",
      "File \u001b[0;32m~/Documents/Conda/envs/pablocarreira-py39/lib/python3.9/site-packages/geopandas/io/file.py:201\u001b[0m, in \u001b[0;36m_read_file\u001b[0;34m(filename, bbox, mask, rows, **kwargs)\u001b[0m\n\u001b[1;32m    198\u001b[0m     reader \u001b[38;5;241m=\u001b[39m fiona\u001b[38;5;241m.\u001b[39mopen\n\u001b[1;32m    200\u001b[0m \u001b[38;5;28;01mwith\u001b[39;00m fiona_env():\n\u001b[0;32m--> 201\u001b[0m     \u001b[38;5;28;01mwith\u001b[39;00m \u001b[43mreader\u001b[49m\u001b[43m(\u001b[49m\u001b[43mpath_or_bytes\u001b[49m\u001b[43m,\u001b[49m\u001b[43m \u001b[49m\u001b[38;5;241;43m*\u001b[39;49m\u001b[38;5;241;43m*\u001b[39;49m\u001b[43mkwargs\u001b[49m\u001b[43m)\u001b[49m \u001b[38;5;28;01mas\u001b[39;00m features:\n\u001b[1;32m    202\u001b[0m \n\u001b[1;32m    203\u001b[0m         \u001b[38;5;66;03m# In a future Fiona release the crs attribute of features will\u001b[39;00m\n\u001b[1;32m    204\u001b[0m         \u001b[38;5;66;03m# no longer be a dict, but will behave like a dict. So this should\u001b[39;00m\n\u001b[1;32m    205\u001b[0m         \u001b[38;5;66;03m# be forwards compatible\u001b[39;00m\n\u001b[1;32m    206\u001b[0m         crs \u001b[38;5;241m=\u001b[39m (\n\u001b[1;32m    207\u001b[0m             features\u001b[38;5;241m.\u001b[39mcrs[\u001b[38;5;124m\"\u001b[39m\u001b[38;5;124minit\u001b[39m\u001b[38;5;124m\"\u001b[39m]\n\u001b[1;32m    208\u001b[0m             \u001b[38;5;28;01mif\u001b[39;00m features\u001b[38;5;241m.\u001b[39mcrs \u001b[38;5;129;01mand\u001b[39;00m \u001b[38;5;124m\"\u001b[39m\u001b[38;5;124minit\u001b[39m\u001b[38;5;124m\"\u001b[39m \u001b[38;5;129;01min\u001b[39;00m features\u001b[38;5;241m.\u001b[39mcrs\n\u001b[1;32m    209\u001b[0m             \u001b[38;5;28;01melse\u001b[39;00m features\u001b[38;5;241m.\u001b[39mcrs_wkt\n\u001b[1;32m    210\u001b[0m         )\n\u001b[1;32m    212\u001b[0m         \u001b[38;5;66;03m# handle loading the bounding box\u001b[39;00m\n",
      "File \u001b[0;32m~/Documents/Conda/envs/pablocarreira-py39/lib/python3.9/site-packages/fiona/env.py:408\u001b[0m, in \u001b[0;36mensure_env_with_credentials.<locals>.wrapper\u001b[0;34m(*args, **kwargs)\u001b[0m\n\u001b[1;32m    405\u001b[0m \u001b[38;5;129m@wraps\u001b[39m(f)\n\u001b[1;32m    406\u001b[0m \u001b[38;5;28;01mdef\u001b[39;00m \u001b[38;5;21mwrapper\u001b[39m(\u001b[38;5;241m*\u001b[39margs, \u001b[38;5;241m*\u001b[39m\u001b[38;5;241m*\u001b[39mkwargs):\n\u001b[1;32m    407\u001b[0m     \u001b[38;5;28;01mif\u001b[39;00m local\u001b[38;5;241m.\u001b[39m_env:\n\u001b[0;32m--> 408\u001b[0m         \u001b[38;5;28;01mreturn\u001b[39;00m \u001b[43mf\u001b[49m\u001b[43m(\u001b[49m\u001b[38;5;241;43m*\u001b[39;49m\u001b[43margs\u001b[49m\u001b[43m,\u001b[49m\u001b[43m \u001b[49m\u001b[38;5;241;43m*\u001b[39;49m\u001b[38;5;241;43m*\u001b[39;49m\u001b[43mkwargs\u001b[49m\u001b[43m)\u001b[49m\n\u001b[1;32m    409\u001b[0m     \u001b[38;5;28;01melse\u001b[39;00m:\n\u001b[1;32m    410\u001b[0m         \u001b[38;5;28;01mif\u001b[39;00m \u001b[38;5;28misinstance\u001b[39m(args[\u001b[38;5;241m0\u001b[39m], \u001b[38;5;28mstr\u001b[39m):\n",
      "File \u001b[0;32m~/Documents/Conda/envs/pablocarreira-py39/lib/python3.9/site-packages/fiona/__init__.py:264\u001b[0m, in \u001b[0;36mopen\u001b[0;34m(fp, mode, driver, schema, crs, encoding, layer, vfs, enabled_drivers, crs_wkt, **kwargs)\u001b[0m\n\u001b[1;32m    261\u001b[0m     path \u001b[38;5;241m=\u001b[39m parse_path(fp)\n\u001b[1;32m    263\u001b[0m \u001b[38;5;28;01mif\u001b[39;00m mode \u001b[38;5;129;01min\u001b[39;00m (\u001b[38;5;124m'\u001b[39m\u001b[38;5;124ma\u001b[39m\u001b[38;5;124m'\u001b[39m, \u001b[38;5;124m'\u001b[39m\u001b[38;5;124mr\u001b[39m\u001b[38;5;124m'\u001b[39m):\n\u001b[0;32m--> 264\u001b[0m     c \u001b[38;5;241m=\u001b[39m \u001b[43mCollection\u001b[49m\u001b[43m(\u001b[49m\u001b[43mpath\u001b[49m\u001b[43m,\u001b[49m\u001b[43m \u001b[49m\u001b[43mmode\u001b[49m\u001b[43m,\u001b[49m\u001b[43m \u001b[49m\u001b[43mdriver\u001b[49m\u001b[38;5;241;43m=\u001b[39;49m\u001b[43mdriver\u001b[49m\u001b[43m,\u001b[49m\u001b[43m \u001b[49m\u001b[43mencoding\u001b[49m\u001b[38;5;241;43m=\u001b[39;49m\u001b[43mencoding\u001b[49m\u001b[43m,\u001b[49m\n\u001b[1;32m    265\u001b[0m \u001b[43m                   \u001b[49m\u001b[43mlayer\u001b[49m\u001b[38;5;241;43m=\u001b[39;49m\u001b[43mlayer\u001b[49m\u001b[43m,\u001b[49m\u001b[43m \u001b[49m\u001b[43menabled_drivers\u001b[49m\u001b[38;5;241;43m=\u001b[39;49m\u001b[43menabled_drivers\u001b[49m\u001b[43m,\u001b[49m\u001b[43m \u001b[49m\u001b[38;5;241;43m*\u001b[39;49m\u001b[38;5;241;43m*\u001b[39;49m\u001b[43mkwargs\u001b[49m\u001b[43m)\u001b[49m\n\u001b[1;32m    266\u001b[0m \u001b[38;5;28;01melif\u001b[39;00m mode \u001b[38;5;241m==\u001b[39m \u001b[38;5;124m'\u001b[39m\u001b[38;5;124mw\u001b[39m\u001b[38;5;124m'\u001b[39m:\n\u001b[1;32m    267\u001b[0m     \u001b[38;5;28;01mif\u001b[39;00m schema:\n\u001b[1;32m    268\u001b[0m         \u001b[38;5;66;03m# Make an ordered dict of schema properties.\u001b[39;00m\n",
      "File \u001b[0;32m~/Documents/Conda/envs/pablocarreira-py39/lib/python3.9/site-packages/fiona/collection.py:162\u001b[0m, in \u001b[0;36mCollection.__init__\u001b[0;34m(self, path, mode, driver, schema, crs, encoding, layer, vsi, archive, enabled_drivers, crs_wkt, ignore_fields, ignore_geometry, **kwargs)\u001b[0m\n\u001b[1;32m    160\u001b[0m \u001b[38;5;28;01mif\u001b[39;00m \u001b[38;5;28mself\u001b[39m\u001b[38;5;241m.\u001b[39mmode \u001b[38;5;241m==\u001b[39m \u001b[38;5;124m'\u001b[39m\u001b[38;5;124mr\u001b[39m\u001b[38;5;124m'\u001b[39m:\n\u001b[1;32m    161\u001b[0m     \u001b[38;5;28mself\u001b[39m\u001b[38;5;241m.\u001b[39msession \u001b[38;5;241m=\u001b[39m Session()\n\u001b[0;32m--> 162\u001b[0m     \u001b[38;5;28;43mself\u001b[39;49m\u001b[38;5;241;43m.\u001b[39;49m\u001b[43msession\u001b[49m\u001b[38;5;241;43m.\u001b[39;49m\u001b[43mstart\u001b[49m\u001b[43m(\u001b[49m\u001b[38;5;28;43mself\u001b[39;49m\u001b[43m,\u001b[49m\u001b[43m \u001b[49m\u001b[38;5;241;43m*\u001b[39;49m\u001b[38;5;241;43m*\u001b[39;49m\u001b[43mkwargs\u001b[49m\u001b[43m)\u001b[49m\n\u001b[1;32m    163\u001b[0m \u001b[38;5;28;01melif\u001b[39;00m \u001b[38;5;28mself\u001b[39m\u001b[38;5;241m.\u001b[39mmode \u001b[38;5;129;01min\u001b[39;00m (\u001b[38;5;124m'\u001b[39m\u001b[38;5;124ma\u001b[39m\u001b[38;5;124m'\u001b[39m, \u001b[38;5;124m'\u001b[39m\u001b[38;5;124mw\u001b[39m\u001b[38;5;124m'\u001b[39m):\n\u001b[1;32m    164\u001b[0m     \u001b[38;5;28mself\u001b[39m\u001b[38;5;241m.\u001b[39msession \u001b[38;5;241m=\u001b[39m WritingSession()\n",
      "File \u001b[0;32mfiona/ogrext.pyx:540\u001b[0m, in \u001b[0;36mfiona.ogrext.Session.start\u001b[0;34m()\u001b[0m\n",
      "File \u001b[0;32mfiona/_shim.pyx:90\u001b[0m, in \u001b[0;36mfiona._shim.gdal_open_vector\u001b[0;34m()\u001b[0m\n",
      "\u001b[0;31mDriverError\u001b[0m: '/home/michel/Documents/Conda/envs/pablocarreira-py39/lib/python3.9/site-packages/open_geodata/data/geo/sp_piracicaba/divisa_urbanorural.geojson' not recognized as a supported file format."
     ]
    }
   ],
   "source": [
    "geo.load_dataset('divisa_urbanorural')"
   ]
  },
  {
   "cell_type": "code",
   "execution_count": null,
   "metadata": {
    "pycharm": {
     "name": "#%%\n"
    }
   },
   "outputs": [],
   "source": []
  }
 ],
 "metadata": {
  "interpreter": {
   "hash": "397a8db9a99587ebc9659e575e97c3dbc03b7cdbd9bc181d706cc19eab1087ed"
  },
  "kernelspec": {
   "display_name": "Python 3 (ipykernel)",
   "language": "python",
   "name": "python3"
  },
  "language_info": {
   "codemirror_mode": {
    "name": "ipython",
    "version": 3
   },
   "file_extension": ".py",
   "mimetype": "text/x-python",
   "name": "python",
   "nbconvert_exporter": "python",
   "pygments_lexer": "ipython3",
   "version": "3.9.10"
  }
 },
 "nbformat": 4,
 "nbformat_minor": 4
}
