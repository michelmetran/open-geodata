{
 "cells": [
  {
   "cell_type": "code",
   "execution_count": 1,
   "id": "10b2b4e6",
   "metadata": {},
   "outputs": [],
   "source": [
    "import json\n",
    "import pkgutil\n",
    "from urllib.parse import quote, unquote, urljoin, urlparse, urlsplit, urlunparse\n",
    "\n",
    "import pooch\n",
    "\n",
    "import open_geodata as geo"
   ]
  },
  {
   "cell_type": "code",
   "execution_count": 2,
   "id": "4c714e17",
   "metadata": {},
   "outputs": [],
   "source": [
    "# class DB:\n",
    "#     def __init__(self, db='general', project='open_geodata') -> None:\n",
    "#         self.project = project\n",
    "#         self.cache = None\n",
    "\n",
    "#         json_data = pkgutil.get_data(\n",
    "#             package=self.project, resource=f'db/{db}.json'\n",
    "#         )\n",
    "#         if isinstance(json_data, bytes):\n",
    "#             self.json_raw = json.loads(json_data)\n",
    "#         else:\n",
    "#             raise Exception('Erro!')\n",
    "#         self.json = self._flatten()\n",
    "#         # self._check_keys()\n",
    "\n",
    "#     def _flatten(self):\n",
    "#         flat = {}\n",
    "#         for outer_key, inner_dict in self.json_raw.items():\n",
    "#             for inner_key, value in inner_dict.items():\n",
    "#                 new_key = f\"{outer_key}.{inner_key}\"\n",
    "#                 flat[new_key] = value\n",
    "#         return flat\n",
    "\n",
    "#     def _check_keys(self):\n",
    "#         for dict_data in self.json.values():\n",
    "#             if all(key in dict_data for key in ['url', 'hash']):\n",
    "#                 pass\n",
    "#             else:\n",
    "#                 raise Exception('Falta chaves')\n",
    "\n",
    "#     @property\n",
    "#     def list_data(self):\n",
    "#         return list(self.json.keys())\n",
    "\n",
    "#     def get_base_url(\n",
    "#         self,\n",
    "#         name,\n",
    "#         # github_fix=True,\n",
    "#         # github_set_version=True,\n",
    "#         # github_branch='main',\n",
    "#     ):\n",
    "#         if name not in self.list_data:\n",
    "#             raise Exception('Nome Inválido')\n",
    "\n",
    "#         #\n",
    "#         url = self.json[name]['url']\n",
    "#         scheme = urlparse(url=url).scheme\n",
    "#         netloc = urlparse(url=url).netloc\n",
    "#         path = Path(urlparse(url=url).path).parent.as_posix()\n",
    "#         params = urlparse(url=url).params\n",
    "#         query = urlparse(url=url).query\n",
    "#         fragment = urlparse(url=url).fragment\n",
    "\n",
    "#         url = urlunparse((scheme, netloc, path, params, query, fragment))\n",
    "#         url = quote(url, safe=':/')\n",
    "#         return url\n",
    "\n",
    "#     def _get_hash(self, name):\n",
    "#         if name not in self.list_data:\n",
    "#             raise Exception('Nome Inválido')\n",
    "\n",
    "#         return self.json[name]['hash']\n",
    "\n",
    "#     def _get_filename(self, name):\n",
    "#         if name not in self.list_data:\n",
    "#             raise Exception('Nome Inválido')\n",
    "\n",
    "#         #\n",
    "#         url = self.json[name]['url']\n",
    "#         path = Path(urlparse(url=url).path)\n",
    "#         return unquote(path.name)\n",
    "\n",
    "#     def get_registry(self, name):\n",
    "#         return {self._get_filename(name=name): self._get_hash(name=name)}\n",
    "\n",
    "#     def _create_cache_for_data(self, name):\n",
    "#         self.cache = pooch.create(\n",
    "#             path=pooch.os_cache(project=self.project),\n",
    "#             base_url=self.get_base_url(name=name),\n",
    "#             # version='v1.8.2',\n",
    "#             # version_dev='main',\n",
    "#             registry=db.get_registry(name=name),\n",
    "#         )\n",
    "#         return self.cache\n",
    "\n",
    "#     def get_data(self, name):\n",
    "#         self.cache = self._create_cache_for_data(name=name)\n",
    "#         return self.cache.fetch(fname=self._get_filename(name=name))\n",
    "\n",
    "#     def get_filehash_sha256(self, name):\n",
    "#         filename = self.get_data(name=name)\n",
    "#         return pooch.file_hash(filename, alg=\"sha256\")\n",
    "\n",
    "\n",
    "# db = DB(db='sp_bh_pcj-2020-2035')\n",
    "# db.json"
   ]
  },
  {
   "cell_type": "code",
   "execution_count": 3,
   "id": "5b7b0c92",
   "metadata": {},
   "outputs": [],
   "source": [
    "layer = 'sp_tjsp.divadmin'\n",
    "layer = 'sp_bh_pcj-2020-2035.poligonos'\n",
    "layer = 'tab.municipio_nome'\n",
    "# layer = 'sp_bh_pcj-2020-2035.biomas'"
   ]
  },
  {
   "cell_type": "code",
   "execution_count": 4,
   "id": "0dee51d2",
   "metadata": {},
   "outputs": [
    {
     "data": {
      "text/plain": [
       "dict"
      ]
     },
     "execution_count": 4,
     "metadata": {},
     "output_type": "execute_result"
    }
   ],
   "source": [
    "db = geo.data.DB(db='sp')\n",
    "type(db.json)"
   ]
  },
  {
   "cell_type": "code",
   "execution_count": 5,
   "id": "e74760e8",
   "metadata": {},
   "outputs": [
    {
     "data": {
      "text/plain": [
       "['tab.macrometropole',\n",
       " 'tab.municipio_area',\n",
       " 'tab.municipio_idcetesb',\n",
       " 'tab.municipio_mesoregiao',\n",
       " 'tab.municipio_microregiao',\n",
       " 'tab.municipio_nome',\n",
       " 'tab.municipio_regiaoadm',\n",
       " 'tab.municipio_regiaogoverno',\n",
       " 'tab.municipio_ugrhi',\n",
       " 'tab.rms',\n",
       " 'geo.sp_050k_wgs84',\n",
       " 'geo.sp_250k_wgs84']"
      ]
     },
     "execution_count": 5,
     "metadata": {},
     "output_type": "execute_result"
    }
   ],
   "source": [
    "db.list_data"
   ]
  },
  {
   "cell_type": "code",
   "execution_count": null,
   "id": "0439f010",
   "metadata": {},
   "outputs": [],
   "source": [
    "url = db.get_base_url(name=layer)\n",
    "url"
   ]
  },
  {
   "cell_type": "code",
   "execution_count": null,
   "id": "114a2e48",
   "metadata": {},
   "outputs": [],
   "source": [
    "db.get_filehash_sha256(name=layer)"
   ]
  },
  {
   "cell_type": "code",
   "execution_count": null,
   "id": "10cd082e",
   "metadata": {},
   "outputs": [],
   "source": [
    "db.list_data"
   ]
  },
  {
   "cell_type": "code",
   "execution_count": null,
   "id": "a4122786",
   "metadata": {},
   "outputs": [],
   "source": [
    "db._get_filename(name=layer)"
   ]
  },
  {
   "cell_type": "code",
   "execution_count": null,
   "id": "7244dd3f",
   "metadata": {},
   "outputs": [],
   "source": [
    "db.get_registry(name=layer)"
   ]
  },
  {
   "cell_type": "code",
   "execution_count": null,
   "id": "959266bc",
   "metadata": {},
   "outputs": [],
   "source": [
    "db.get_filehash_sha256(name=layer)"
   ]
  },
  {
   "cell_type": "code",
   "execution_count": null,
   "id": "47d6e966",
   "metadata": {},
   "outputs": [],
   "source": [
    "aaa = db._create_cache_for_data(name=layer)\n",
    "list(aaa.path.absolute().glob('*'))"
   ]
  },
  {
   "cell_type": "code",
   "execution_count": null,
   "id": "0aeb22ed",
   "metadata": {},
   "outputs": [],
   "source": [
    "filepath = db.get_data(name=layer)\n",
    "Path(filepath).with_suffix('.7z')"
   ]
  },
  {
   "cell_type": "code",
   "execution_count": null,
   "id": "ddb4b65d",
   "metadata": {},
   "outputs": [],
   "source": [
    "import tempfile\n",
    "\n",
    "import geopandas as gpd\n",
    "import py7zr\n",
    "\n",
    "# gpd.read_file(aaa)\n",
    "\n",
    "\n",
    "def read_7z_file(file_path_7z):\n",
    "    file_path_7z = Path(file_path_7z)\n",
    "    if file_path_7z.is_file():\n",
    "        with py7zr.SevenZipFile(file_path_7z, 'r') as archive:\n",
    "            allfiles = archive.getnames()\n",
    "            # Quero apenas um arquivo por gpkg\n",
    "            if len(allfiles) == 1:\n",
    "                with tempfile.TemporaryDirectory() as temp_dir:\n",
    "                    temp_dir = Path(temp_dir)\n",
    "                    archive.extract(path=temp_dir, targets=allfiles)\n",
    "                    filename = list(temp_dir.glob('*'))[0]\n",
    "                    ext = filename.suffix.lower()\n",
    "                    print(ext)\n",
    "                    if ext in ['.gpkg']:\n",
    "                        return gpd.read_file(filename=filename)\n",
    "\n",
    "            else:\n",
    "                raise RuntimeError('.7z tem mais de um arquivo')\n",
    "\n",
    "\n",
    "read_7z_file(aaa)"
   ]
  },
  {
   "cell_type": "markdown",
   "id": "bd3174c2",
   "metadata": {},
   "source": [
    "<br>\n",
    "\n",
    "---\n",
    "\n",
    "## ddd\n"
   ]
  },
  {
   "cell_type": "code",
   "execution_count": null,
   "id": "584b6afc",
   "metadata": {},
   "outputs": [],
   "source": []
  },
  {
   "cell_type": "markdown",
   "id": "d161f0d1",
   "metadata": {},
   "source": [
    "```json\n",
    "{\n",
    "  \"sp_bh_pcj-2020-2035\": {\n",
    "    \"land\": {\n",
    "      \"url\": \"https://github.com/open-geodata/sp_bh_pcj-2020-2035/blob/main/sp_bh_pcj_2020_2035/data/output/geo/rm%20piracicaba%20-%20poligonos.7z\",\n",
    "      \"attribution\": \"Comitês das Bacias PCJ\",\n",
    "      \"name\": \"geo.rm_piracicaba\",\n",
    "      \"description\": \"Alguma coisa que eu lembro\",\n",
    "      \"details\": \"https://github.com/open-geodata/sp_bh_pcj-2020-2035\",\n",
    "      \"hash\": \"1926c621afd6ac67c3f36639bb1236134a48d82226dc675d3e3df53d02d2a3de\",\n",
    "      \"filename\": \"ne_110m_land.zip\"\n",
    "    }\n",
    "  }\n",
    "}\n",
    "```\n",
    "\n",
    "```json\n",
    "{\n",
    "  \"sp_bh_pcj-2020-2035.land\": {\n",
    "    \"url\": \"https://github.com/open-geodata/sp_bh_pcj-2020-2035/blob/main/sp_bh_pcj_2020_2035/data/output/geo/rm%20piracicaba%20-%20poligonos.7z\",\n",
    "    \"attribution\": \"Comitês das Bacias PCJ\",\n",
    "    \"name\": \"geo.rm_piracicaba\",\n",
    "    \"description\": \"Alguma coisa que eu lembro\",\n",
    "    \"details\": \"https://github.com/open-geodata/sp_bh_pcj-2020-2035\",\n",
    "    \"hash\": \"1926c621afd6ac67c3f36639bb1236134a48d82226dc675d3e3df53d02d2a3de\",\n",
    "    \"filename\": \"ne_110m_land.zip\"\n",
    "  }\n",
    "}\n",
    "```\n"
   ]
  },
  {
   "cell_type": "code",
   "execution_count": null,
   "id": "38bc322c",
   "metadata": {},
   "outputs": [],
   "source": []
  },
  {
   "cell_type": "code",
   "execution_count": null,
   "id": "9ffdae1f",
   "metadata": {},
   "outputs": [],
   "source": [
    "# D:\\Codes\\GitHub\\my_projects\\open-geodata\\open_geodata\\data\\geo\\br_ibge"
   ]
  },
  {
   "cell_type": "code",
   "execution_count": null,
   "id": "1543a6f0",
   "metadata": {},
   "outputs": [],
   "source": []
  },
  {
   "cell_type": "code",
   "execution_count": null,
   "id": "667bc49d",
   "metadata": {},
   "outputs": [],
   "source": []
  }
 ],
 "metadata": {
  "kernelspec": {
   "display_name": ".venv",
   "language": "python",
   "name": "python3"
  },
  "language_info": {
   "codemirror_mode": {
    "name": "ipython",
    "version": 3
   },
   "file_extension": ".py",
   "mimetype": "text/x-python",
   "name": "python",
   "nbconvert_exporter": "python",
   "pygments_lexer": "ipython3",
   "version": "3.11.12"
  }
 },
 "nbformat": 4,
 "nbformat_minor": 5
}
