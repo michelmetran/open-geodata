{
 "cells": [
  {
   "cell_type": "markdown",
   "metadata": {},
   "source": [
    "<br>\n",
    "\n",
    "# Introdução"
   ]
  },
  {
   "cell_type": "markdown",
   "metadata": {},
   "source": [
    "<br>\n",
    "\n",
    "## Import Lib vs. Package Resources\n",
    "\n",
    "- import pkg_resources https://stackoverflow.com/questions/779495/access-data-in-package-subdirectory\n",
    "- Use of pkg_resources is discouraged in favor of importlib.resources, importlib.metadata, and their backports (importlib_resources, importlib_metadata). Please consider using those libraries instead of pkg_resources. https://setuptools.pypa.io/en/latest/pkg_resources.html\n"
   ]
  },
  {
   "cell_type": "code",
   "execution_count": null,
   "metadata": {},
   "outputs": [],
   "source": [
    "import os\n",
    "from pathlib import Path\n",
    "import importlib.resources\n",
    "import pkg_resources"
   ]
  },
  {
   "cell_type": "code",
   "execution_count": null,
   "metadata": {},
   "outputs": [],
   "source": [
    "print(pkg_resources.resource_filename(__name__, 'data/data.txt'))\n",
    "print(pkg_resources.resource_filename('open_geodata', 'data'))"
   ]
  },
  {
   "cell_type": "code",
   "execution_count": null,
   "metadata": {},
   "outputs": [],
   "source": [
    "print(__name__)\n",
    "print(__package__)"
   ]
  },
  {
   "cell_type": "code",
   "execution_count": null,
   "metadata": {},
   "outputs": [],
   "source": [
    "os.listdir(pkg_resources.resource_filename('open_geodata', 'data'))"
   ]
  },
  {
   "cell_type": "code",
   "execution_count": null,
   "metadata": {},
   "outputs": [],
   "source": [
    "pkg_name = 'sp_piracicaba'\n",
    "\n",
    "try:\n",
    "    importlib.resources.files(pkg_name)\n",
    "except Exception as e:\n",
    "    print(e)\n",
    "    print('Necessario instalar')\n",
    "    print(f'pip3 install {pkg_name} --upgrade')"
   ]
  },
  {
   "cell_type": "code",
   "execution_count": null,
   "metadata": {},
   "outputs": [],
   "source": [
    "importlib.resources.files(pkg_name)"
   ]
  },
  {
   "cell_type": "markdown",
   "metadata": {},
   "source": [
    "<br>\n",
    "\n",
    "# Dados Espaciais\n",
    "\n",
    "Ideia de consumir dados espaciais em pacotes apartados"
   ]
  },
  {
   "cell_type": "code",
   "execution_count": null,
   "metadata": {},
   "outputs": [],
   "source": [
    "!pip3 install open-geodata --upgrade\n"
   ]
  },
  {
   "cell_type": "code",
   "execution_count": null,
   "metadata": {},
   "outputs": [],
   "source": [
    "!pip3 install sp-bh-pcj-2020-2035 --upgrade\n",
    "!pip3 install sp-piracicaba --upgrade\n",
    "!pip3 install sp-ff-apa-corumbatai --upgrade"
   ]
  },
  {
   "cell_type": "code",
   "execution_count": null,
   "metadata": {},
   "outputs": [],
   "source": [
    "import pprint\n",
    "import open_geodata\n",
    "from open_geodata import geo"
   ]
  },
  {
   "cell_type": "code",
   "execution_count": null,
   "metadata": {},
   "outputs": [],
   "source": [
    "# List Geodata\n",
    "list_shp = geo.get_dataset_names()\n",
    "pprint.pprint(list_shp)"
   ]
  },
  {
   "cell_type": "code",
   "execution_count": null,
   "metadata": {},
   "outputs": [],
   "source": [
    "geo.load_dataset('sp_250k_wgs84')"
   ]
  },
  {
   "cell_type": "code",
   "execution_count": null,
   "metadata": {},
   "outputs": [],
   "source": [
    "from pathlib import Path\n",
    "\n",
    "package_path = Path('.').absolute().parent\n",
    "package_path = package_path / 'open_geodata'\n",
    "print(package_path)\n",
    "data_path = package_path / 'data'\n",
    "\n",
    "\n",
    "a = Path('geo.sp.sp_250k_wgs84'.replace('.', '/'))\n",
    "b = data_path / f'{a}'\n",
    "print(b)\n",
    "#b.relative_to(data_path)\n",
    "list(b.rglob('**'))\n"
   ]
  },
  {
   "cell_type": "code",
   "execution_count": null,
   "metadata": {},
   "outputs": [],
   "source": [
    "\n",
    "print(b)\n",
    "b.is_file()"
   ]
  }
 ],
 "metadata": {
  "kernelspec": {
   "display_name": "Python 3.9.12 ('pablocarreira-py39')",
   "language": "python",
   "name": "python3"
  },
  "language_info": {
   "codemirror_mode": {
    "name": "ipython",
    "version": 3
   },
   "file_extension": ".py",
   "mimetype": "text/x-python",
   "name": "python",
   "nbconvert_exporter": "python",
   "pygments_lexer": "ipython3",
   "version": "3.9.12"
  },
  "vscode": {
   "interpreter": {
    "hash": "f37c76b4b024ed38c9f50f17f9e6defabebb1e5c97323517c6e8bca54ae41c65"
   }
  }
 },
 "nbformat": 4,
 "nbformat_minor": 2
}
