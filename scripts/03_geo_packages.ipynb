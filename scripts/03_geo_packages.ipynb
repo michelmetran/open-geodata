{
 "cells": [
  {
   "cell_type": "markdown",
   "metadata": {},
   "source": [
    "<br>\n",
    "\n",
    "# Introdução\n"
   ]
  },
  {
   "cell_type": "markdown",
   "metadata": {},
   "source": [
    "<br>\n",
    "\n",
    "## Import Lib vs. Package Resources\n",
    "\n",
    "- import pkg_resources https://stackoverflow.com/questions/779495/access-data-in-package-subdirectory\n",
    "- Use of pkg_resources is discouraged in favor of importlib.resources, importlib.metadata, and their backports (importlib_resources, importlib_metadata). Please consider using those libraries instead of pkg_resources. https://setuptools.pypa.io/en/latest/pkg_resources.html\n"
   ]
  },
  {
   "cell_type": "code",
   "execution_count": null,
   "metadata": {},
   "outputs": [],
   "source": [
    "import importlib\n",
    "import importlib.resources\n",
    "import os\n",
    "import pprint\n",
    "from pathlib import Path\n",
    "\n",
    "import pkg_resources\n",
    "\n",
    "from open_geodata import geo\n"
   ]
  },
  {
   "cell_type": "code",
   "execution_count": null,
   "metadata": {},
   "outputs": [],
   "source": [
    "print(pkg_resources.resource_filename(__name__, 'data/data.txt'))\n",
    "print(pkg_resources.resource_filename('open_geodata', 'data'))\n"
   ]
  },
  {
   "cell_type": "code",
   "execution_count": null,
   "metadata": {},
   "outputs": [],
   "source": [
    "print(__name__)\n",
    "print(__package__)\n"
   ]
  },
  {
   "cell_type": "code",
   "execution_count": null,
   "metadata": {},
   "outputs": [],
   "source": [
    "os.listdir(pkg_resources.resource_filename('open_geodata', 'data'))\n"
   ]
  },
  {
   "cell_type": "code",
   "execution_count": null,
   "metadata": {},
   "outputs": [],
   "source": [
    "Path(pkg_resources.resource_filename('open_geodata', 'data'))\n"
   ]
  },
  {
   "cell_type": "code",
   "execution_count": null,
   "metadata": {},
   "outputs": [],
   "source": [
    "pkg_name = 'sp_piracicaba'\n",
    "\n",
    "try:\n",
    "    importlib.resources.files(pkg_name)\n",
    "\n",
    "except Exception as e:\n",
    "    print(e)\n",
    "    print('Necessario instalar')\n",
    "    print(f'pip3 install {pkg_name} --upgrade')\n"
   ]
  },
  {
   "cell_type": "code",
   "execution_count": null,
   "metadata": {},
   "outputs": [],
   "source": [
    "importlib.resources.files(pkg_name)\n"
   ]
  },
  {
   "cell_type": "code",
   "execution_count": null,
   "metadata": {},
   "outputs": [],
   "source": [
    "package_path = Path('.').absolute().parent\n",
    "package_path = package_path / 'open_geodata'\n",
    "print(package_path)\n",
    "data_path = package_path / 'data'\n",
    "\n",
    "\n",
    "a = Path('geo.sp.sp_250k_wgs84'.replace('.', '/'))\n",
    "b = data_path / f'{a}'\n",
    "print(b)\n",
    "# b.relative_to(data_path)\n",
    "list(b.rglob('**'))\n"
   ]
  },
  {
   "cell_type": "code",
   "execution_count": null,
   "metadata": {},
   "outputs": [],
   "source": [
    "print(b)\n",
    "b.is_file()\n"
   ]
  },
  {
   "cell_type": "code",
   "execution_count": null,
   "metadata": {},
   "outputs": [],
   "source": [
    "package_name = 'sp_piracicaba'\n",
    "dataset_name = 'zips.divisa_municipal'\n",
    "\n",
    "filename = dataset_name.replace('.', '/')\n",
    "filename = Path(filename)\n",
    "print(filename)\n",
    "\n",
    "package_path = importlib.resources.files(package_name)\n",
    "print(package_path)\n",
    "for p in package_path.rglob(f'*/*{dataset_name}*/*'):\n",
    "    print('ddddd ', p)\n"
   ]
  },
  {
   "cell_type": "code",
   "execution_count": null,
   "metadata": {},
   "outputs": [],
   "source": [
    "filename = dataset_name.replace('.', '/')\n",
    "filename = Path(filename)\n",
    "print(filename)\n",
    "package_path = Path('.').absolute().parent.joinpath('open_geodata')\n",
    "print(package_path)\n",
    "data_path = package_path / 'data'\n",
    "file_path = data_path / filename\n"
   ]
  },
  {
   "cell_type": "code",
   "execution_count": null,
   "metadata": {},
   "outputs": [],
   "source": []
  }
 ],
 "metadata": {
  "kernelspec": {
   "display_name": "Python 3.10.6 ('pablocarreira-lastest')",
   "language": "python",
   "name": "python3"
  },
  "language_info": {
   "codemirror_mode": {
    "name": "ipython",
    "version": 3
   },
   "file_extension": ".py",
   "mimetype": "text/x-python",
   "name": "python",
   "nbconvert_exporter": "python",
   "pygments_lexer": "ipython3",
   "version": "3.10.6"
  },
  "vscode": {
   "interpreter": {
    "hash": "4fe01b1e548a48625e93ad3ec9d7217eaa82c8c5a1273b2b8580787b5d806f08"
   }
  }
 },
 "nbformat": 4,
 "nbformat_minor": 2
}
