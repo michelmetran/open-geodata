{
 "cells": [
  {
   "cell_type": "code",
   "execution_count": null,
   "id": "eea1cdf0",
   "metadata": {},
   "outputs": [],
   "source": [
    "import importlib.resources\n",
    "import pprint\n",
    "from pathlib import Path\n",
    "\n",
    "import geopandas as gpd\n",
    "import pandas as pd\n",
    "import py7zr"
   ]
  },
  {
   "cell_type": "code",
   "execution_count": null,
   "id": "08494d41",
   "metadata": {},
   "outputs": [],
   "source": [
    " ##'SevenZipFile' object has no attribute 'read'"
   ]
  },
  {
   "cell_type": "code",
   "execution_count": null,
   "id": "34bd482c",
   "metadata": {},
   "outputs": [],
   "source": [
    "sp_path = Path('.').absolute().parents[0] / 'open_geodata' / 'data' / 'geo' / 'sp'\n",
    "list_files = list(sp_path.glob('*'))\n",
    "list_files"
   ]
  },
  {
   "cell_type": "code",
   "execution_count": null,
   "id": "2dff51ec",
   "metadata": {},
   "outputs": [],
   "source": [
    "file_path_7z = list_files[1]\n",
    "file_path_7z"
   ]
  },
  {
   "cell_type": "code",
   "execution_count": null,
   "id": "78d3e7e6",
   "metadata": {},
   "outputs": [],
   "source": [
    "import py7zr\n",
    "print(py7zr.__version__)"
   ]
  },
  {
   "cell_type": "code",
   "execution_count": null,
   "id": "4a8ad560",
   "metadata": {},
   "outputs": [],
   "source": [
    "import tempfile"
   ]
  },
  {
   "cell_type": "code",
   "execution_count": null,
   "id": "e77bb96d",
   "metadata": {},
   "outputs": [],
   "source": [
    "allfiles"
   ]
  },
  {
   "cell_type": "code",
   "execution_count": null,
   "id": "93e89824",
   "metadata": {},
   "outputs": [],
   "source": [
    "with tempfile.TemporaryDirectory() as temp_dir:\n",
    "\n",
    "    temp_dir = Path(temp_dir)\n",
    "\n",
    "    with py7zr.SevenZipFile(file_path_7z, 'r') as archive:\n",
    "        allfiles = archive.getnames()\n",
    "\n",
    "        if len(allfiles) == 1:\n",
    "            archive.extract(path=temp_dir, targets=allfiles)\n",
    "\n",
    "        print(list(temp_dir.glob('*')))"
   ]
  },
  {
   "cell_type": "code",
   "execution_count": null,
   "id": "8e2f7316",
   "metadata": {},
   "outputs": [],
   "source": [
    "aaa = allfiles[0]\n",
    "aaa.istitle()"
   ]
  },
  {
   "cell_type": "code",
   "execution_count": null,
   "id": "c5eae259",
   "metadata": {},
   "outputs": [],
   "source": [
    "aaa"
   ]
  },
  {
   "cell_type": "code",
   "execution_count": null,
   "id": "f87a70a2",
   "metadata": {},
   "outputs": [],
   "source": [
    "with py7zr.SevenZipFile(file_path_7z, 'r') as archive:\n",
    "    allfiles = archive.getnames()\n",
    "\n",
    "    # Quero apenas um arquivo por gpkg\n",
    "    if len(allfiles) == 1:\n",
    "        files_content = archive.readall()\n",
    "        for filename, bio in files_content.items():\n",
    "            pass\n"
   ]
  },
  {
   "cell_type": "markdown",
   "id": "f0a701aa",
   "metadata": {},
   "source": [
    "<br>\n",
    "\n",
    "-----\n",
    "\n",
    "## Quotes"
   ]
  },
  {
   "cell_type": "code",
   "execution_count": 1,
   "id": "35e22429",
   "metadata": {},
   "outputs": [
    {
     "data": {
      "text/plain": [
       "'2013.04.04%20-%20DNPM%20-%20Departamento%20Nacional%20de%20Produ%C3%A7%C3%A3o%20Mineral'"
      ]
     },
     "execution_count": 1,
     "metadata": {},
     "output_type": "execute_result"
    }
   ],
   "source": [
    "from urllib.parse import quote\n",
    "\n",
    "texto = \"2013.04.04 - DNPM - Departamento Nacional de Produção Mineral\"\n",
    "url_codificada = quote(texto)\n",
    "url_codificada"
   ]
  },
  {
   "cell_type": "code",
   "execution_count": null,
   "id": "508cdc30",
   "metadata": {},
   "outputs": [],
   "source": []
  }
 ],
 "metadata": {
  "kernelspec": {
   "display_name": ".venv",
   "language": "python",
   "name": "python3"
  },
  "language_info": {
   "codemirror_mode": {
    "name": "ipython",
    "version": 3
   },
   "file_extension": ".py",
   "mimetype": "text/x-python",
   "name": "python",
   "nbconvert_exporter": "python",
   "pygments_lexer": "ipython3",
   "version": "3.11.12"
  }
 },
 "nbformat": 4,
 "nbformat_minor": 5
}
